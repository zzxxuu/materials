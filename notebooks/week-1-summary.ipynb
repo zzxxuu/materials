{ 6
 "cells": [
  {
   "cell_type": "markdown",
   "id": "f5699a71",
   "metadata": {},
   "source": [
    "# Week 1 Summary\n",
    "> NAME: $\\color{red}{\\text{    <Insert Your Name Here>     }}$\n",
    "> \n",
    "> PID: $\\color{red}{\\text{    <Insert Your ID Here>     }}$\n",
    ">\n",
    "> \n",
    "---"
   ]
  },
  {
   "cell_type": "markdown",
   "id": "b0e61ba4-c23c-44b6-8933-ad5c5013a12d",
   "metadata": {},
   "source": [
    "I certify that the following write-up is my own work, and have abided by the UCSD Academic Integrity Guidelines.\n",
    "\n",
    "- [x] Yes\n",
    "- [ ] No"
   ]
  },
  {
   "cell_type": "markdown",
   "id": "2e3d69d4-fc3b-467c-867a-232ea44b034d",
   "metadata": {},
   "source": [
    "---"
   ]
  },
  {
   "cell_type": "markdown",
   "id": "de700466",
   "metadata": {},
   "source": [
    "## Key Takeaways from Week 1"
   ]
  },
  {
   "cell_type": "markdown",
   "id": "e89169e3",
   "metadata": {},
   "source": [
    "\n",
    "#### Monday: \n",
    "\n",
    "Basics of Python\n",
    "\n",
    "- Introduction to Python programming\n",
    "- Key Data Structures: Lists, Tuples, Dictionaries, Sets\n",
    "- Basic Python syntax and operations\n"
   ]
  },
  {
   "cell_type": "markdown",
   "id": "29081a6f",
   "metadata": {},
   "source": [
    "#### Wednesday\n",
    "\n",
    "NumPy and Linear Algebra\n",
    "\n",
    "- Introduction to NumPy for numerical computing\n",
    "- Vector and matrix operations with NumPy\n",
    "- Basics of linear algebra in Python\n"
   ]
  },
  {
   "cell_type": "markdown",
   "id": "56f24688",
   "metadata": {},
   "source": [
    "#### Friday: \n",
    "\n",
    "Pandas and Plotting\n",
    "\n",
    "- Introduction to Pandas for data manipulation\n",
    "- Creating and manipulating DataFrames\n",
    "- Basic data visualization techniques\n"
   ]
  },
  {
   "cell_type": "markdown",
   "id": "5928a1a1",
   "metadata": {},
   "source": [
    "---"
   ]
  },
  {
   "cell_type": "markdown",
   "id": "71b30092-0b40-4853-bee7-9fb6b040490d",
   "metadata": {},
   "source": [
    "%%latex\n",
    "\\newpage"
   ]
  },
  {
   "cell_type": "markdown",
   "id": "d9ac3593",
   "metadata": {},
   "source": [
    "## Monday, Jan 8th"
   ]
  },
  {
   "cell_type": "markdown",
   "id": "3d181512",
   "metadata": {},
   "source": [
    "On Monday, we covered the basics of Python programming. We started with a brief introduction to Python and Jupyter notebooks, and then moved on to the basics of Python syntax. We covered variables, loops, conditionals, and functions. We also covered the basics of the four main data structures in Python: lists, tuples, dictionaries, and sets."
   ]
  },
  {
   "cell_type": "markdown",
   "id": "36ae94c2",
   "metadata": {},
   "source": [
    "Key concepts covered:\n",
    "\n",
    "- **Data Structures:** Understanding of Lists, Tuples, Dictionaries, and Sets.\n",
    "- **Basic Syntax and Operations:** Familiarity with Python syntax, including variables, loops, conditionals, and functions.\n"
   ]
  },
  {
   "cell_type": "code",
   "execution_count": 1,
   "id": "20b3eac4",
   "metadata": {},
   "outputs": [
    {
     "data": {
      "text/plain": [
       "[1, 2, 3, 10, 4, 5, 6]"
      ]
     },
     "execution_count": 1,
     "metadata": {},
     "output_type": "execute_result"
    }
   ],
   "source": [
    "# List example\n",
    "my_list = [1, 2, 3]\n",
    "my_list.append(10) # Appending elements\n",
    "my_list + [4, 5, 6] # Concatenating lists"
   ]
  },
  {
   "cell_type": "code",
   "execution_count": 2,
   "id": "df358218",
   "metadata": {},
   "outputs": [
    {
     "data": {
      "text/plain": [
       "(1, 2, 3, 4, 5, 6)"
      ]
     },
     "execution_count": 2,
     "metadata": {},
     "output_type": "execute_result"
    }
   ],
   "source": [
    "# Tuple example\n",
    "my_tuple = (1, 2, 3)\n",
    "# my_tuple.append(10) # Error! Tuples are immutable\n",
    "my_tuple + (4, 5, 6) # Concatenating tuples"
   ]
  },
  {
   "cell_type": "code",
   "execution_count": 3,
   "id": "5096bd1f",
   "metadata": {},
   "outputs": [
    {
     "name": "stdout",
     "output_type": "stream",
     "text": [
      "Keys: dict_keys(['a', 'b'])\n",
      "Values: dict_values([1, 2])\n",
      "Items: dict_items([('a', 1), ('b', 2)])\n"
     ]
    }
   ],
   "source": [
    "# Dictionary example\n",
    "my_dict = {'a': 1, 'b': 2}\n",
    "print(f'Keys: {my_dict.keys()}') # Returns a list of keys\n",
    "print(f'Values: {my_dict.values()}') # Returns a list of values\n",
    "print(f'Items: {my_dict.items()}') # Returns a list of tuples"
   ]
  },
  {
   "cell_type": "code",
   "execution_count": 4,
   "id": "22f1e8d6",
   "metadata": {},
   "outputs": [
    {
     "name": "stdout",
     "output_type": "stream",
     "text": [
      "Union: {1, 2, 3, 5}\n",
      "Intersection: {2, 3}\n",
      "Difference: {1}\n",
      "Symmetric difference: {1, 5}\n"
     ]
    }
   ],
   "source": [
    "# Set example\n",
    "my_set_1 = {1, 2, 3}\n",
    "my_set_2 = {2, 5, 3}\n",
    "print(f'Union: {my_set_1 | my_set_2}') # Union\n",
    "print(f'Intersection: {my_set_1 & my_set_2}') # Intersection\n",
    "print(f'Difference: {my_set_1 - my_set_2}') # Difference\n",
    "print(f'Symmetric difference: {my_set_1 ^ my_set_2}') # Symmetric difference"
   ]
  },
  {
   "cell_type": "markdown",
   "id": "47b88afc",
   "metadata": {},
   "source": [
    "\n",
    "Functions and Lambda Functions in Python\n",
    "- **Functions:**\n",
    "  - Defined using the `def` keyword.\n",
    "  - Can take arguments and return values.\n",
    "\n",
    "- **Lambda Functions:** A concise way to write functions in a single line.\n",
    "  - Useful for simple functions that are used once or a few times.\n",
    "  - Often used with functions like `map()`, `filter()`, and in Pandas operations."
   ]
  },
  {
   "cell_type": "code",
   "execution_count": 5,
   "id": "0b8b5167",
   "metadata": {},
   "outputs": [
    {
     "data": {
      "text/plain": [
       "25"
      ]
     },
     "execution_count": 5,
     "metadata": {},
     "output_type": "execute_result"
    }
   ],
   "source": [
    "# Defining a simple function\n",
    "def sum_of_squares(a, b):\n",
    "    return a**2 + b**2\n",
    "sum_of_squares(3, 4)"
   ]
  },
  {
   "cell_type": "code",
   "execution_count": 6,
   "id": "da06e458",
   "metadata": {},
   "outputs": [
    {
     "data": {
      "text/plain": [
       "25"
      ]
     },
     "execution_count": 6,
     "metadata": {},
     "output_type": "execute_result"
    }
   ],
   "source": [
    "# Lambda function equivalent\n",
    "sum_of_squares_lambda = lambda a, b: a**2 + b**2\n",
    "\n",
    "sum_of_squares_lambda(3, 4)"
   ]
  },
  {
   "cell_type": "markdown",
   "id": "c3d4b14f",
   "metadata": {},
   "source": [
    "---"
   ]
  },
  {
   "cell_type": "markdown",
   "id": "89f279dc-cd10-4ca3-b94b-046971a93e54",
   "metadata": {},
   "source": [
    "%%latex \n",
    "\\newpage"
   ]
  },
  {
   "cell_type": "markdown",
   "id": "9e527d83",
   "metadata": {},
   "source": [
    "## Wed, Jan 10th"
   ]
  },
  {
   "cell_type": "markdown",
   "id": "97cba7b9",
   "metadata": {},
   "source": [
    "On Wednesday we did a refresher on linear algebra, and how to perform linear algebraic operations using the `NumPy` package. \n",
    "\n",
    "This included: \n",
    "\n",
    "* creating vectors and matrices, \n",
    "* performing matrix multiplication, \n",
    "* computing norms and dot products of vectors, \n",
    "* computing determinants, trace and inverse of a matrix, \n",
    "* computing eigenvalues and eigenvectors, and\n",
    "* solving a system of linear equations."
   ]
  },
  {
   "cell_type": "markdown",
   "id": "ad2d56af",
   "metadata": {},
   "source": [
    "Creating vectors, matrices, and some basic operations:"
   ]
  },
  {
   "cell_type": "code",
   "execution_count": 7,
   "id": "27cef97f",
   "metadata": {},
   "outputs": [
    {
     "name": "stdout",
     "output_type": "stream",
     "text": [
      "Vector:\n",
      " [1 2 3]\n",
      "\n",
      "Matrix:\n",
      " [[1 2 3]\n",
      " [4 5 6]\n",
      " [7 8 9]]\n",
      "\n",
      "Product:\n",
      " [14 32 50]\n",
      "\n"
     ]
    }
   ],
   "source": [
    "import numpy as np\n",
    "\n",
    "# Creating vectors and matrices\n",
    "vector = np.array([1, 2, 3])\n",
    "matrix = np.array([[1, 2, 3], [4, 5, 6], [7, 8, 9]])\n",
    "\n",
    "print(f'Vector:\\n {vector}\\n')\n",
    "print(f'Matrix:\\n {matrix}\\n')\n",
    "\n",
    "\n",
    "product = np.dot(matrix, vector)\n",
    "print(f'Product:\\n {product}\\n')"
   ]
  },
  {
   "cell_type": "markdown",
   "id": "b0659f26",
   "metadata": {},
   "source": [
    "Basic linear algebra operations:"
   ]
  },
  {
   "cell_type": "code",
   "execution_count": 8,
   "id": "d9d393ea",
   "metadata": {},
   "outputs": [
    {
     "name": "stdout",
     "output_type": "stream",
     "text": [
      "Adding vectors: [2 4 6]\n",
      "\n",
      "dot product: 14\n",
      "\n",
      "norm: 3.7416573867739413\n",
      "\n",
      "Matrix transpose:\n",
      " [[1 4 7]\n",
      " [2 5 8]\n",
      " [3 6 9]]\n",
      "\n",
      "Matrix inverse:\n",
      " [[ 3.15251974e+15 -6.30503948e+15  3.15251974e+15]\n",
      " [-6.30503948e+15  1.26100790e+16 -6.30503948e+15]\n",
      " [ 3.15251974e+15 -6.30503948e+15  3.15251974e+15]]\n",
      "\n"
     ]
    }
   ],
   "source": [
    "print(f'Adding vectors: {vector + vector}\\n')\n",
    "print(f'dot product: {np.dot(vector, vector)}\\n')\n",
    "print(f'norm: {np.linalg.norm(vector)}\\n')\n",
    "print(f'Matrix transpose:\\n {matrix.transpose()}\\n')\n",
    "print(f'Matrix inverse:\\n {np.linalg.inv(matrix)}\\n')"
   ]
  },
  {
   "cell_type": "markdown",
   "id": "334f2192",
   "metadata": {},
   "source": [
    "Slightly more advanced linear algebra operations:"
   ]
  },
  {
   "cell_type": "code",
   "execution_count": 9,
   "id": "17da9f42",
   "metadata": {},
   "outputs": [
    {
     "name": "stdout",
     "output_type": "stream",
     "text": [
      "Solution:\n",
      " [2. 3.]\n",
      "\n",
      "Eigenvalues:\n",
      " [3.61803399 1.38196601]\n",
      "\n",
      "Eigenvectors:\n",
      " [[ 0.85065081 -0.52573111]\n",
      " [ 0.52573111  0.85065081]]\n",
      "\n"
     ]
    }
   ],
   "source": [
    "# Solving a system of linear equations\n",
    "A = np.array([[3, 1], [1, 2]])\n",
    "b = np.array([9, 8])\n",
    "solution = np.linalg.solve(A, b)\n",
    "print(f'Solution:\\n {solution}\\n')\n",
    "\n",
    "# Matrix eigenvalues and eigenvectors\n",
    "eigenvalues, eigenvectors = np.linalg.eig(A)\n",
    "print(f'Eigenvalues:\\n {eigenvalues}\\n')\n",
    "print(f'Eigenvectors:\\n {eigenvectors}\\n')"
   ]
  },
  {
   "cell_type": "markdown",
   "id": "05187baf",
   "metadata": {},
   "source": [
    "---"
   ]
  },
  {
   "cell_type": "markdown",
   "id": "e6be712f-4560-4b32-ac50-b3db9cfaad0a",
   "metadata": {},
   "source": [
    "%%latex \n",
    "\\newpage"
   ]
  },
  {
   "cell_type": "markdown",
   "id": "3525e5fa",
   "metadata": {},
   "source": [
    "## Fri, Jan 12th"
   ]
  },
  {
   "cell_type": "markdown",
   "id": "39c814b7",
   "metadata": {},
   "source": [
    "On Friday, we focused on using the `Pandas` library for data manipulation, along with plotting using `Matplotlib`, `Seaborn` and `gr`.\n",
    "\n",
    "This included:\n",
    "\n",
    "* Creating and manipulating DataFrames with Pandas.\n",
    "* Basic plotting.\n",
    "* Advanced visualization with Seaborn."
   ]
  },
  {
   "cell_type": "markdown",
   "id": "e68d074d",
   "metadata": {},
   "source": [
    "Importing a `.csv` file as a Pandas DataFrame:"
   ]
  },
  {
   "cell_type": "code",
   "execution_count": 10,
   "id": "587a7987",
   "metadata": {},
   "outputs": [
    {
     "data": {
      "text/html": [
       "<div>\n",
       "<style scoped>\n",
       "    .dataframe tbody tr th:only-of-type {\n",
       "        vertical-align: middle;\n",
       "    }\n",
       "\n",
       "    .dataframe tbody tr th {\n",
       "        vertical-align: top;\n",
       "    }\n",
       "\n",
       "    .dataframe thead th {\n",
       "        text-align: right;\n",
       "    }\n",
       "</style>\n",
       "<table border=\"1\" class=\"dataframe\">\n",
       "  <thead>\n",
       "    <tr style=\"text-align: right;\">\n",
       "      <th></th>\n",
       "      <th>sepal_length</th>\n",
       "      <th>sepal_width</th>\n",
       "      <th>petal_length</th>\n",
       "      <th>petal_width</th>\n",
       "      <th>species</th>\n",
       "    </tr>\n",
       "  </thead>\n",
       "  <tbody>\n",
       "    <tr>\n",
       "      <th>0</th>\n",
       "      <td>5.1</td>\n",
       "      <td>3.5</td>\n",
       "      <td>1.4</td>\n",
       "      <td>0.2</td>\n",
       "      <td>setosa</td>\n",
       "    </tr>\n",
       "    <tr>\n",
       "      <th>1</th>\n",
       "      <td>4.9</td>\n",
       "      <td>3.0</td>\n",
       "      <td>1.4</td>\n",
       "      <td>0.2</td>\n",
       "      <td>setosa</td>\n",
       "    </tr>\n",
       "    <tr>\n",
       "      <th>2</th>\n",
       "      <td>4.7</td>\n",
       "      <td>3.2</td>\n",
       "      <td>1.3</td>\n",
       "      <td>0.2</td>\n",
       "      <td>setosa</td>\n",
       "    </tr>\n",
       "    <tr>\n",
       "      <th>3</th>\n",
       "      <td>4.6</td>\n",
       "      <td>3.1</td>\n",
       "      <td>1.5</td>\n",
       "      <td>0.2</td>\n",
       "      <td>setosa</td>\n",
       "    </tr>\n",
       "    <tr>\n",
       "      <th>4</th>\n",
       "      <td>5.0</td>\n",
       "      <td>3.6</td>\n",
       "      <td>1.4</td>\n",
       "      <td>0.2</td>\n",
       "      <td>setosa</td>\n",
       "    </tr>\n",
       "  </tbody>\n",
       "</table>\n",
       "</div>"
      ],
      "text/plain": [
       "   sepal_length  sepal_width  petal_length  petal_width species\n",
       "0           5.1          3.5           1.4          0.2  setosa\n",
       "1           4.9          3.0           1.4          0.2  setosa\n",
       "2           4.7          3.2           1.3          0.2  setosa\n",
       "3           4.6          3.1           1.5          0.2  setosa\n",
       "4           5.0          3.6           1.4          0.2  setosa"
      ]
     },
     "execution_count": 10,
     "metadata": {},
     "output_type": "execute_result"
    }
   ],
   "source": [
    "# iris dataset\n",
    "import pandas as pd\n",
    "url = 'https://gist.github.com/curran/a08a1080b88344b0c8a7/raw/0e7a9b0a5d22642a06d3d5b9bcbad9890c8ee534/iris.csv'\n",
    "df = pd.read_csv(url)\n",
    "\n",
    "df.head(5) # First 5 rows of the iris dataset"
   ]
  },
  {
   "cell_type": "code",
   "execution_count": 11,
   "id": "f731c645",
   "metadata": {},
   "outputs": [
    {
     "data": {
      "text/html": [
       "<div>\n",
       "<style scoped>\n",
       "    .dataframe tbody tr th:only-of-type {\n",
       "        vertical-align: middle;\n",
       "    }\n",
       "\n",
       "    .dataframe tbody tr th {\n",
       "        vertical-align: top;\n",
       "    }\n",
       "\n",
       "    .dataframe thead th {\n",
       "        text-align: right;\n",
       "    }\n",
       "</style>\n",
       "<table border=\"1\" class=\"dataframe\">\n",
       "  <thead>\n",
       "    <tr style=\"text-align: right;\">\n",
       "      <th></th>\n",
       "      <th>sepal_length</th>\n",
       "      <th>sepal_width</th>\n",
       "      <th>petal_length</th>\n",
       "      <th>petal_width</th>\n",
       "    </tr>\n",
       "  </thead>\n",
       "  <tbody>\n",
       "    <tr>\n",
       "      <th>count</th>\n",
       "      <td>150.000000</td>\n",
       "      <td>150.000000</td>\n",
       "      <td>150.000000</td>\n",
       "      <td>150.000000</td>\n",
       "    </tr>\n",
       "    <tr>\n",
       "      <th>mean</th>\n",
       "      <td>5.843333</td>\n",
       "      <td>3.054000</td>\n",
       "      <td>3.758667</td>\n",
       "      <td>1.198667</td>\n",
       "    </tr>\n",
       "    <tr>\n",
       "      <th>std</th>\n",
       "      <td>0.828066</td>\n",
       "      <td>0.433594</td>\n",
       "      <td>1.764420</td>\n",
       "      <td>0.763161</td>\n",
       "    </tr>\n",
       "    <tr>\n",
       "      <th>min</th>\n",
       "      <td>4.300000</td>\n",
       "      <td>2.000000</td>\n",
       "      <td>1.000000</td>\n",
       "      <td>0.100000</td>\n",
       "    </tr>\n",
       "    <tr>\n",
       "      <th>25%</th>\n",
       "      <td>5.100000</td>\n",
       "      <td>2.800000</td>\n",
       "      <td>1.600000</td>\n",
       "      <td>0.300000</td>\n",
       "    </tr>\n",
       "    <tr>\n",
       "      <th>50%</th>\n",
       "      <td>5.800000</td>\n",
       "      <td>3.000000</td>\n",
       "      <td>4.350000</td>\n",
       "      <td>1.300000</td>\n",
       "    </tr>\n",
       "    <tr>\n",
       "      <th>75%</th>\n",
       "      <td>6.400000</td>\n",
       "      <td>3.300000</td>\n",
       "      <td>5.100000</td>\n",
       "      <td>1.800000</td>\n",
       "    </tr>\n",
       "    <tr>\n",
       "      <th>max</th>\n",
       "      <td>7.900000</td>\n",
       "      <td>4.400000</td>\n",
       "      <td>6.900000</td>\n",
       "      <td>2.500000</td>\n",
       "    </tr>\n",
       "  </tbody>\n",
       "</table>\n",
       "</div>"
      ],
      "text/plain": [
       "       sepal_length  sepal_width  petal_length  petal_width\n",
       "count    150.000000   150.000000    150.000000   150.000000\n",
       "mean       5.843333     3.054000      3.758667     1.198667\n",
       "std        0.828066     0.433594      1.764420     0.763161\n",
       "min        4.300000     2.000000      1.000000     0.100000\n",
       "25%        5.100000     2.800000      1.600000     0.300000\n",
       "50%        5.800000     3.000000      4.350000     1.300000\n",
       "75%        6.400000     3.300000      5.100000     1.800000\n",
       "max        7.900000     4.400000      6.900000     2.500000"
      ]
     },
     "execution_count": 11,
     "metadata": {},
     "output_type": "execute_result"
    }
   ],
   "source": [
    "# Summary statitsics\n",
    "df.describe()"
   ]
  },
  {
   "cell_type": "code",
   "execution_count": 12,
   "id": "7f9a3c33",
   "metadata": {},
   "outputs": [
    {
     "data": {
      "text/html": [
       "<div>\n",
       "<style scoped>\n",
       "    .dataframe tbody tr th:only-of-type {\n",
       "        vertical-align: middle;\n",
       "    }\n",
       "\n",
       "    .dataframe tbody tr th {\n",
       "        vertical-align: top;\n",
       "    }\n",
       "\n",
       "    .dataframe thead th {\n",
       "        text-align: right;\n",
       "    }\n",
       "</style>\n",
       "<table border=\"1\" class=\"dataframe\">\n",
       "  <thead>\n",
       "    <tr style=\"text-align: right;\">\n",
       "      <th></th>\n",
       "      <th>sepal_length</th>\n",
       "      <th>sepal_width</th>\n",
       "      <th>petal_length</th>\n",
       "      <th>petal_width</th>\n",
       "      <th>species</th>\n",
       "    </tr>\n",
       "  </thead>\n",
       "  <tbody>\n",
       "    <tr>\n",
       "      <th>50</th>\n",
       "      <td>7.0</td>\n",
       "      <td>3.2</td>\n",
       "      <td>4.7</td>\n",
       "      <td>1.4</td>\n",
       "      <td>versicolor</td>\n",
       "    </tr>\n",
       "    <tr>\n",
       "      <th>51</th>\n",
       "      <td>6.4</td>\n",
       "      <td>3.2</td>\n",
       "      <td>4.5</td>\n",
       "      <td>1.5</td>\n",
       "      <td>versicolor</td>\n",
       "    </tr>\n",
       "    <tr>\n",
       "      <th>52</th>\n",
       "      <td>6.9</td>\n",
       "      <td>3.1</td>\n",
       "      <td>4.9</td>\n",
       "      <td>1.5</td>\n",
       "      <td>versicolor</td>\n",
       "    </tr>\n",
       "    <tr>\n",
       "      <th>53</th>\n",
       "      <td>5.5</td>\n",
       "      <td>2.3</td>\n",
       "      <td>4.0</td>\n",
       "      <td>1.3</td>\n",
       "      <td>versicolor</td>\n",
       "    </tr>\n",
       "    <tr>\n",
       "      <th>54</th>\n",
       "      <td>6.5</td>\n",
       "      <td>2.8</td>\n",
       "      <td>4.6</td>\n",
       "      <td>1.5</td>\n",
       "      <td>versicolor</td>\n",
       "    </tr>\n",
       "  </tbody>\n",
       "</table>\n",
       "</div>"
      ],
      "text/plain": [
       "    sepal_length  sepal_width  petal_length  petal_width     species\n",
       "50           7.0          3.2           4.7          1.4  versicolor\n",
       "51           6.4          3.2           4.5          1.5  versicolor\n",
       "52           6.9          3.1           4.9          1.5  versicolor\n",
       "53           5.5          2.3           4.0          1.3  versicolor\n",
       "54           6.5          2.8           4.6          1.5  versicolor"
      ]
     },
     "execution_count": 12,
     "metadata": {},
     "output_type": "execute_result"
    }
   ],
   "source": [
    "# Subsetting example\n",
    "df[(df['species'] == 'versicolor') & (df['sepal_length'] > 4)].head(5)"
   ]
  },
  {
   "cell_type": "code",
   "execution_count": 13,
   "id": "6ff80208",
   "metadata": {},
   "outputs": [],
   "source": [
    "# creating variables\n",
    "df['species_color_code'] = df['species']\\\n",
    "    .map( lambda species: 0 if species == 'setosa' else 1 if species == 'versicolor' else 2 )"
   ]
  },
  {
   "cell_type": "markdown",
   "id": "7b3cff1c",
   "metadata": {},
   "source": [
    "##### Scatterplot of petal length vs. petal width colored by species using `matplotlib`"
   ]
  },
  {
   "cell_type": "code",
   "execution_count": 14,
   "id": "50f221b3",
   "metadata": {},
   "outputs": [
    {
     "data": {
      "text/plain": [
       "<matplotlib.collections.PathCollection at 0x1196afcd0>"
      ]
     },
     "execution_count": 14,
     "metadata": {},
     "output_type": "execute_result"
    },
    {
     "data": {
      "image/png": "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",
      "text/plain": [
       "<Figure size 400x400 with 1 Axes>"
      ]
     },
     "metadata": {},
     "output_type": "display_data"
    }
   ],
   "source": [
    "%matplotlib inline\n",
    "\n",
    "import matplotlib.pyplot as plt\n",
    "\n",
    "fig, ax = plt.subplots(1,1, figsize=(4,4))\n",
    "plt.scatter(df['petal_length'], df['petal_width'], c=df['species_color_code'])"
   ]
  },
  {
   "cell_type": "markdown",
   "id": "8e3b7393",
   "metadata": {},
   "source": [
    "##### Scatterplot of petal length vs. petal width colored by species using `seaborn`"
   ]
  },
  {
   "cell_type": "code",
   "execution_count": 15,
   "id": "7e43f914",
   "metadata": {},
   "outputs": [
    {
     "data": {
      "text/plain": [
       "<Axes: xlabel='petal_length', ylabel='petal_width'>"
      ]
     },
     "execution_count": 15,
     "metadata": {},
     "output_type": "execute_result"
    },
    {
     "data": {
      "image/png": "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",
      "text/plain": [
       "<Figure size 400x400 with 1 Axes>"
      ]
     },
     "metadata": {},
     "output_type": "display_data"
    }
   ],
   "source": [
    "# Scatterplot of sepal length vs. sepal width using seaborn colored by species\n",
    "import seaborn as sns\n",
    "fig, ax = plt.subplots(1,1, figsize=(4,4))\n",
    "sns.scatterplot(x='petal_length', y='petal_width', hue='species', data=df, ax=ax)"
   ]
  },
  {
   "cell_type": "markdown",
   "id": "7ee8de7c",
   "metadata": {},
   "source": [
    "##### Scatterplot of petal length vs. petal width colored by species using `gr`"
   ]
  },
  {
   "cell_type": "code",
   "execution_count": 16,
   "id": "1191c18f-7d6d-44da-9716-ca19fe8dc485",
   "metadata": {},
   "outputs": [
    {
     "data": {
      "image/svg+xml": [
       "<svg xmlns=\"http://www.w3.org/2000/svg\" xmlns:xlink=\"http://www.w3.org/1999/xlink\" width=\"600\" height=\"450\" viewBox=\"0 0 2400 1800\">\n",
       "<defs>\n",
       "  <clipPath id=\"clip710\">\n",
       "    <rect x=\"300\" y=\"134\" width=\"1921\" height=\"1441\"/>\n",
       "  </clipPath>\n",
       "</defs>\n",
       "<defs>\n",
       "  <clipPath id=\"clip711\">\n",
       "    <rect x=\"0\" y=\"0\" width=\"2400\" height=\"1800\"/>\n",
       "  </clipPath>\n",
       "</defs>\n",
       "<polyline clip-path=\"url(#clip711)\" style=\"stroke:#ededed; stroke-linecap:round; stroke-linejoin:round; stroke-width:3.6; stroke-opacity:1; fill:none\" points=\"300,1575 2220,1575 \"/>\n",
       "<polyline clip-path=\"url(#clip711)\" style=\"stroke:#ededed; stroke-linecap:round; stroke-linejoin:round; stroke-width:3.6; stroke-opacity:1; fill:none\" points=\"300,1515 2220,1515 \"/>\n",
       "<polyline clip-path=\"url(#clip711)\" style=\"stroke:#ededed; stroke-linecap:round; stroke-linejoin:round; stroke-width:3.6; stroke-opacity:1; fill:none\" points=\"300,1455 2220,1455 \"/>\n",
       "<polyline clip-path=\"url(#clip711)\" style=\"stroke:#ededed; stroke-linecap:round; stroke-linejoin:round; stroke-width:3.6; stroke-opacity:1; fill:none\" points=\"300,1395 2220,1395 \"/>\n",
       "<polyline clip-path=\"url(#clip711)\" style=\"stroke:#cccccc; stroke-linecap:round; stroke-linejoin:round; stroke-width:3.6; stroke-opacity:1; fill:none\" points=\"300,1335 2220,1335 \"/>\n",
       "<polyline clip-path=\"url(#clip711)\" style=\"stroke:#ededed; stroke-linecap:round; stroke-linejoin:round; stroke-width:3.6; stroke-opacity:1; fill:none\" points=\"300,1275 2220,1275 \"/>\n",
       "<polyline clip-path=\"url(#clip711)\" style=\"stroke:#ededed; stroke-linecap:round; stroke-linejoin:round; stroke-width:3.6; stroke-opacity:1; fill:none\" points=\"300,1215 2220,1215 \"/>\n",
       "<polyline clip-path=\"url(#clip711)\" style=\"stroke:#ededed; stroke-linecap:round; stroke-linejoin:round; stroke-width:3.6; stroke-opacity:1; fill:none\" points=\"300,1155 2220,1155 \"/>\n",
       "<polyline clip-path=\"url(#clip711)\" style=\"stroke:#ededed; stroke-linecap:round; stroke-linejoin:round; stroke-width:3.6; stroke-opacity:1; fill:none\" points=\"300,1095 2220,1095 \"/>\n",
       "<polyline clip-path=\"url(#clip711)\" style=\"stroke:#cccccc; stroke-linecap:round; stroke-linejoin:round; stroke-width:3.6; stroke-opacity:1; fill:none\" points=\"300,1035 2220,1035 \"/>\n",
       "<polyline clip-path=\"url(#clip711)\" style=\"stroke:#ededed; stroke-linecap:round; stroke-linejoin:round; stroke-width:3.6; stroke-opacity:1; fill:none\" points=\"300,975 2220,975 \"/>\n",
       "<polyline clip-path=\"url(#clip711)\" style=\"stroke:#ededed; stroke-linecap:round; stroke-linejoin:round; stroke-width:3.6; stroke-opacity:1; fill:none\" points=\"300,915 2220,915 \"/>\n",
       "<polyline clip-path=\"url(#clip711)\" style=\"stroke:#ededed; stroke-linecap:round; stroke-linejoin:round; stroke-width:3.6; stroke-opacity:1; fill:none\" points=\"300,855 2220,855 \"/>\n",
       "<polyline clip-path=\"url(#clip711)\" style=\"stroke:#ededed; stroke-linecap:round; stroke-linejoin:round; stroke-width:3.6; stroke-opacity:1; fill:none\" points=\"300,795 2220,795 \"/>\n",
       "<polyline clip-path=\"url(#clip711)\" style=\"stroke:#cccccc; stroke-linecap:round; stroke-linejoin:round; stroke-width:3.6; stroke-opacity:1; fill:none\" points=\"300,735 2220,735 \"/>\n",
       "<polyline clip-path=\"url(#clip711)\" style=\"stroke:#ededed; stroke-linecap:round; stroke-linejoin:round; stroke-width:3.6; stroke-opacity:1; fill:none\" points=\"300,675 2220,675 \"/>\n",
       "<polyline clip-path=\"url(#clip711)\" style=\"stroke:#ededed; stroke-linecap:round; stroke-linejoin:round; stroke-width:3.6; stroke-opacity:1; fill:none\" points=\"300,615 2220,615 \"/>\n",
       "<polyline clip-path=\"url(#clip711)\" style=\"stroke:#ededed; stroke-linecap:round; stroke-linejoin:round; stroke-width:3.6; stroke-opacity:1; fill:none\" points=\"300,555 2220,555 \"/>\n",
       "<polyline clip-path=\"url(#clip711)\" style=\"stroke:#ededed; stroke-linecap:round; stroke-linejoin:round; stroke-width:3.6; stroke-opacity:1; fill:none\" points=\"300,495 2220,495 \"/>\n",
       "<polyline clip-path=\"url(#clip711)\" style=\"stroke:#cccccc; stroke-linecap:round; stroke-linejoin:round; stroke-width:3.6; stroke-opacity:1; fill:none\" points=\"300,435 2220,435 \"/>\n",
       "<polyline clip-path=\"url(#clip711)\" style=\"stroke:#ededed; stroke-linecap:round; stroke-linejoin:round; stroke-width:3.6; stroke-opacity:1; fill:none\" points=\"300,375 2220,375 \"/>\n",
       "<polyline clip-path=\"url(#clip711)\" style=\"stroke:#ededed; stroke-linecap:round; stroke-linejoin:round; stroke-width:3.6; stroke-opacity:1; fill:none\" points=\"300,315 2220,315 \"/>\n",
       "<polyline clip-path=\"url(#clip711)\" style=\"stroke:#ededed; stroke-linecap:round; stroke-linejoin:round; stroke-width:3.6; stroke-opacity:1; fill:none\" points=\"300,255 2220,255 \"/>\n",
       "<polyline clip-path=\"url(#clip711)\" style=\"stroke:#ededed; stroke-linecap:round; stroke-linejoin:round; stroke-width:3.6; stroke-opacity:1; fill:none\" points=\"300,195 2220,195 \"/>\n",
       "<polyline clip-path=\"url(#clip711)\" style=\"stroke:#cccccc; stroke-linecap:round; stroke-linejoin:round; stroke-width:3.6; stroke-opacity:1; fill:none\" points=\"300,135 2220,135 \"/>\n",
       "<polyline clip-path=\"url(#clip711)\" style=\"stroke:#ededed; stroke-linecap:round; stroke-linejoin:round; stroke-width:3.6; stroke-opacity:1; fill:none\" points=\"364,1575 364,135 \"/>\n",
       "<polyline clip-path=\"url(#clip711)\" style=\"stroke:#ededed; stroke-linecap:round; stroke-linejoin:round; stroke-width:3.6; stroke-opacity:1; fill:none\" points=\"492,1575 492,135 \"/>\n",
       "<polyline clip-path=\"url(#clip711)\" style=\"stroke:#cccccc; stroke-linecap:round; stroke-linejoin:round; stroke-width:3.6; stroke-opacity:1; fill:none\" points=\"620,1575 620,135 \"/>\n",
       "<polyline clip-path=\"url(#clip711)\" style=\"stroke:#ededed; stroke-linecap:round; stroke-linejoin:round; stroke-width:3.6; stroke-opacity:1; fill:none\" points=\"748,1575 748,135 \"/>\n",
       "<polyline clip-path=\"url(#clip711)\" style=\"stroke:#ededed; stroke-linecap:round; stroke-linejoin:round; stroke-width:3.6; stroke-opacity:1; fill:none\" points=\"876,1575 876,135 \"/>\n",
       "<polyline clip-path=\"url(#clip711)\" style=\"stroke:#ededed; stroke-linecap:round; stroke-linejoin:round; stroke-width:3.6; stroke-opacity:1; fill:none\" points=\"1004,1575 1004,135 \"/>\n",
       "<polyline clip-path=\"url(#clip711)\" style=\"stroke:#ededed; stroke-linecap:round; stroke-linejoin:round; stroke-width:3.6; stroke-opacity:1; fill:none\" points=\"1132,1575 1132,135 \"/>\n",
       "<polyline clip-path=\"url(#clip711)\" style=\"stroke:#cccccc; stroke-linecap:round; stroke-linejoin:round; stroke-width:3.6; stroke-opacity:1; fill:none\" points=\"1260,1575 1260,135 \"/>\n",
       "<polyline clip-path=\"url(#clip711)\" style=\"stroke:#ededed; stroke-linecap:round; stroke-linejoin:round; stroke-width:3.6; stroke-opacity:1; fill:none\" points=\"1388,1575 1388,135 \"/>\n",
       "<polyline clip-path=\"url(#clip711)\" style=\"stroke:#ededed; stroke-linecap:round; stroke-linejoin:round; stroke-width:3.6; stroke-opacity:1; fill:none\" points=\"1516,1575 1516,135 \"/>\n",
       "<polyline clip-path=\"url(#clip711)\" style=\"stroke:#ededed; stroke-linecap:round; stroke-linejoin:round; stroke-width:3.6; stroke-opacity:1; fill:none\" points=\"1644,1575 1644,135 \"/>\n",
       "<polyline clip-path=\"url(#clip711)\" style=\"stroke:#ededed; stroke-linecap:round; stroke-linejoin:round; stroke-width:3.6; stroke-opacity:1; fill:none\" points=\"1772,1575 1772,135 \"/>\n",
       "<polyline clip-path=\"url(#clip711)\" style=\"stroke:#cccccc; stroke-linecap:round; stroke-linejoin:round; stroke-width:3.6; stroke-opacity:1; fill:none\" points=\"1900,1575 1900,135 \"/>\n",
       "<polyline clip-path=\"url(#clip711)\" style=\"stroke:#ededed; stroke-linecap:round; stroke-linejoin:round; stroke-width:3.6; stroke-opacity:1; fill:none\" points=\"2028,1575 2028,135 \"/>\n",
       "<polyline clip-path=\"url(#clip711)\" style=\"stroke:#ededed; stroke-linecap:round; stroke-linejoin:round; stroke-width:3.6; stroke-opacity:1; fill:none\" points=\"2156,1575 2156,135 \"/>\n",
       "<g clip-path=\"url(#clip711)\">\n",
       "<text style=\"fill:#000000; fill-opacity:1; font-family:Arial,Helvetica Neue,Helvetica,sans-serif; font-size:59px; text-anchor:start;\" transform=\"rotate(0, 198.368, 1352.06)\" x=\"198.368\" y=\"1352.06\">0.5</text>\n",
       "</g>\n",
       "<g clip-path=\"url(#clip711)\">\n",
       "<text style=\"fill:#000000; fill-opacity:1; font-family:Arial,Helvetica Neue,Helvetica,sans-serif; font-size:59px; text-anchor:start;\" transform=\"rotate(0, 198.368, 1052.06)\" x=\"198.368\" y=\"1052.06\">1.0</text>\n",
       "</g>\n",
       "<g clip-path=\"url(#clip711)\">\n",
       "<text style=\"fill:#000000; fill-opacity:1; font-family:Arial,Helvetica Neue,Helvetica,sans-serif; font-size:59px; text-anchor:start;\" transform=\"rotate(0, 198.368, 752.064)\" x=\"198.368\" y=\"752.064\">1.5</text>\n",
       "</g>\n",
       "<g clip-path=\"url(#clip711)\">\n",
       "<text style=\"fill:#000000; fill-opacity:1; font-family:Arial,Helvetica Neue,Helvetica,sans-serif; font-size:59px; text-anchor:start;\" transform=\"rotate(0, 198.368, 452.064)\" x=\"198.368\" y=\"452.064\">2.0</text>\n",
       "</g>\n",
       "<g clip-path=\"url(#clip711)\">\n",
       "<text style=\"fill:#000000; fill-opacity:1; font-family:Arial,Helvetica Neue,Helvetica,sans-serif; font-size:59px; text-anchor:start;\" transform=\"rotate(0, 198.368, 152.064)\" x=\"198.368\" y=\"152.064\">2.5</text>\n",
       "</g>\n",
       "<polyline clip-path=\"url(#clip711)\" style=\"stroke:#000000; stroke-linecap:round; stroke-linejoin:round; stroke-width:3.6; stroke-opacity:1; fill:none\" points=\"300,1575 300,1575 318,1575 300,1575 300,1515 318,1515 300,1515 300,1455 318,1455 300,1455 300,1395 318,1395 300,1395 300,1335 336,1335 300,1335 300,1275 318,1275 300,1275 300,1215 318,1215 300,1215 300,1155 318,1155 300,1155 300,1095 318,1095 300,1095 300,1035 336,1035 300,1035 300,975 318,975 300,975 300,915 318,915 300,915 300,855 318,855 300,855 300,795 318,795 300,795 300,735 336,735 300,735 300,675 318,675 300,675 300,615 318,615 300,615 300,555 318,555 300,555 300,495 318,495 300,495 300,435 336,435 300,435 300,375 318,375 300,375 300,315 318,315 300,315 300,255 318,255 300,255 300,195 318,195 300,195 300,135 336,135 300,135 \"/>\n",
       "<g clip-path=\"url(#clip711)\">\n",
       "<text style=\"fill:#000000; fill-opacity:1; font-family:Arial,Helvetica Neue,Helvetica,sans-serif; font-size:59px; text-anchor:start;\" transform=\"rotate(0, 603.274, 1646.57)\" x=\"603.274\" y=\"1646.57\">2</text>\n",
       "</g>\n",
       "<g clip-path=\"url(#clip711)\">\n",
       "<text style=\"fill:#000000; fill-opacity:1; font-family:Arial,Helvetica Neue,Helvetica,sans-serif; font-size:59px; text-anchor:start;\" transform=\"rotate(0, 1243.27, 1646.57)\" x=\"1243.27\" y=\"1646.57\">4</text>\n",
       "</g>\n",
       "<g clip-path=\"url(#clip711)\">\n",
       "<text style=\"fill:#000000; fill-opacity:1; font-family:Arial,Helvetica Neue,Helvetica,sans-serif; font-size:59px; text-anchor:start;\" transform=\"rotate(0, 1883.27, 1646.57)\" x=\"1883.27\" y=\"1646.57\">6</text>\n",
       "</g>\n",
       "<polyline clip-path=\"url(#clip711)\" style=\"stroke:#000000; stroke-linecap:round; stroke-linejoin:round; stroke-width:3.6; stroke-opacity:1; fill:none\" points=\"300,1575 364,1575 364,1557 364,1575 492,1575 492,1557 492,1575 620,1575 620,1539 620,1575 748,1575 748,1557 748,1575 876,1575 876,1557 876,1575 1004,1575 1004,1557 1004,1575 1132,1575 1132,1557 1132,1575 1260,1575 1260,1539 1260,1575 1388,1575 1388,1557 1388,1575 1516,1575 1516,1557 1516,1575 1644,1575 1644,1557 1644,1575 1772,1575 1772,1557 1772,1575 1900,1575 1900,1539 1900,1575 2028,1575 2028,1557 2028,1575 2156,1575 2156,1557 2156,1575 2220,1575 \"/>\n",
       "<polyline clip-path=\"url(#clip711)\" style=\"stroke:#000000; stroke-linecap:round; stroke-linejoin:round; stroke-width:3.6; stroke-opacity:1; fill:none\" points=\"2220,1575 2220,1575 2202,1575 2220,1575 2220,1515 2202,1515 2220,1515 2220,1455 2202,1455 2220,1455 2220,1395 2202,1395 2220,1395 2220,1335 2184,1335 2220,1335 2220,1275 2202,1275 2220,1275 2220,1215 2202,1215 2220,1215 2220,1155 2202,1155 2220,1155 2220,1095 2202,1095 2220,1095 2220,1035 2184,1035 2220,1035 2220,975 2202,975 2220,975 2220,915 2202,915 2220,915 2220,855 2202,855 2220,855 2220,795 2202,795 2220,795 2220,735 2184,735 2220,735 2220,675 2202,675 2220,675 2220,615 2202,615 2220,615 2220,555 2202,555 2220,555 2220,495 2202,495 2220,495 2220,435 2184,435 2220,435 2220,375 2202,375 2220,375 2220,315 2202,315 2220,315 2220,255 2202,255 2220,255 2220,195 2202,195 2220,195 2220,135 2184,135 2220,135 \"/>\n",
       "<polyline clip-path=\"url(#clip711)\" style=\"stroke:#000000; stroke-linecap:round; stroke-linejoin:round; stroke-width:3.6; stroke-opacity:1; fill:none\" points=\"300,135 364,135 364,153 364,135 492,135 492,153 492,135 620,135 620,171 620,135 748,135 748,153 748,135 876,135 876,153 876,135 1004,135 1004,153 1004,135 1132,135 1132,153 1132,135 1260,135 1260,171 1260,135 1388,135 1388,153 1388,135 1516,135 1516,153 1516,135 1644,135 1644,153 1644,135 1772,135 1772,153 1772,135 1900,135 1900,171 1900,135 2028,135 2028,153 2028,135 2156,135 2156,153 2156,135 2220,135 \"/>\n",
       "<circle clip-path=\"url(#clip710)\" cx=\"428\" cy=\"1515\" r=\"21.6\" fill=\"#440154\" fill-rule=\"evenodd\" fill-opacity=\"1\" stroke=\"#ffffff\" stroke-opacity=\"1\" stroke-width=\"3.6\"/>\n",
       "<circle clip-path=\"url(#clip710)\" cx=\"428\" cy=\"1515\" r=\"21.6\" fill=\"#440154\" fill-rule=\"evenodd\" fill-opacity=\"1\" stroke=\"#ffffff\" stroke-opacity=\"1\" stroke-width=\"3.6\"/>\n",
       "<circle clip-path=\"url(#clip710)\" cx=\"396\" cy=\"1515\" r=\"21.6\" fill=\"#440154\" fill-rule=\"evenodd\" fill-opacity=\"1\" stroke=\"#ffffff\" stroke-opacity=\"1\" stroke-width=\"3.6\"/>\n",
       "<circle clip-path=\"url(#clip710)\" cx=\"460\" cy=\"1515\" r=\"21.6\" fill=\"#440154\" fill-rule=\"evenodd\" fill-opacity=\"1\" stroke=\"#ffffff\" stroke-opacity=\"1\" stroke-width=\"3.6\"/>\n",
       "<circle clip-path=\"url(#clip710)\" cx=\"428\" cy=\"1515\" r=\"21.6\" fill=\"#440154\" fill-rule=\"evenodd\" fill-opacity=\"1\" stroke=\"#ffffff\" stroke-opacity=\"1\" stroke-width=\"3.6\"/>\n",
       "<circle clip-path=\"url(#clip710)\" cx=\"524\" cy=\"1395\" r=\"21.6\" fill=\"#440154\" fill-rule=\"evenodd\" fill-opacity=\"1\" stroke=\"#ffffff\" stroke-opacity=\"1\" stroke-width=\"3.6\"/>\n",
       "<circle clip-path=\"url(#clip710)\" cx=\"428\" cy=\"1455\" r=\"21.6\" fill=\"#440154\" fill-rule=\"evenodd\" fill-opacity=\"1\" stroke=\"#ffffff\" stroke-opacity=\"1\" stroke-width=\"3.6\"/>\n",
       "<circle clip-path=\"url(#clip710)\" cx=\"460\" cy=\"1515\" r=\"21.6\" fill=\"#440154\" fill-rule=\"evenodd\" fill-opacity=\"1\" stroke=\"#ffffff\" stroke-opacity=\"1\" stroke-width=\"3.6\"/>\n",
       "<circle clip-path=\"url(#clip710)\" cx=\"428\" cy=\"1515\" r=\"21.6\" fill=\"#440154\" fill-rule=\"evenodd\" fill-opacity=\"1\" stroke=\"#ffffff\" stroke-opacity=\"1\" stroke-width=\"3.6\"/>\n",
       "<circle clip-path=\"url(#clip710)\" cx=\"460\" cy=\"1575\" r=\"21.6\" fill=\"#440154\" fill-rule=\"evenodd\" fill-opacity=\"1\" stroke=\"#ffffff\" stroke-opacity=\"1\" stroke-width=\"3.6\"/>\n",
       "<circle clip-path=\"url(#clip710)\" cx=\"460\" cy=\"1515\" r=\"21.6\" fill=\"#440154\" fill-rule=\"evenodd\" fill-opacity=\"1\" stroke=\"#ffffff\" stroke-opacity=\"1\" stroke-width=\"3.6\"/>\n",
       "<circle clip-path=\"url(#clip710)\" cx=\"492\" cy=\"1515\" r=\"21.6\" fill=\"#440154\" fill-rule=\"evenodd\" fill-opacity=\"1\" stroke=\"#ffffff\" stroke-opacity=\"1\" stroke-width=\"3.6\"/>\n",
       "<circle clip-path=\"url(#clip710)\" cx=\"428\" cy=\"1575\" r=\"21.6\" fill=\"#440154\" fill-rule=\"evenodd\" fill-opacity=\"1\" stroke=\"#ffffff\" stroke-opacity=\"1\" stroke-width=\"3.6\"/>\n",
       "<circle clip-path=\"url(#clip710)\" cx=\"332\" cy=\"1575\" r=\"21.6\" fill=\"#440154\" fill-rule=\"evenodd\" fill-opacity=\"1\" stroke=\"#ffffff\" stroke-opacity=\"1\" stroke-width=\"3.6\"/>\n",
       "<circle clip-path=\"url(#clip710)\" cx=\"364\" cy=\"1515\" r=\"21.6\" fill=\"#440154\" fill-rule=\"evenodd\" fill-opacity=\"1\" stroke=\"#ffffff\" stroke-opacity=\"1\" stroke-width=\"3.6\"/>\n",
       "<circle clip-path=\"url(#clip710)\" cx=\"460\" cy=\"1395\" r=\"21.6\" fill=\"#440154\" fill-rule=\"evenodd\" fill-opacity=\"1\" stroke=\"#ffffff\" stroke-opacity=\"1\" stroke-width=\"3.6\"/>\n",
       "<circle clip-path=\"url(#clip710)\" cx=\"396\" cy=\"1395\" r=\"21.6\" fill=\"#440154\" fill-rule=\"evenodd\" fill-opacity=\"1\" stroke=\"#ffffff\" stroke-opacity=\"1\" stroke-width=\"3.6\"/>\n",
       "<circle clip-path=\"url(#clip710)\" cx=\"428\" cy=\"1455\" r=\"21.6\" fill=\"#440154\" fill-rule=\"evenodd\" fill-opacity=\"1\" stroke=\"#ffffff\" stroke-opacity=\"1\" stroke-width=\"3.6\"/>\n",
       "<circle clip-path=\"url(#clip710)\" cx=\"524\" cy=\"1455\" r=\"21.6\" fill=\"#440154\" fill-rule=\"evenodd\" fill-opacity=\"1\" stroke=\"#ffffff\" stroke-opacity=\"1\" stroke-width=\"3.6\"/>\n",
       "<circle clip-path=\"url(#clip710)\" cx=\"460\" cy=\"1455\" r=\"21.6\" fill=\"#440154\" fill-rule=\"evenodd\" fill-opacity=\"1\" stroke=\"#ffffff\" stroke-opacity=\"1\" stroke-width=\"3.6\"/>\n",
       "<circle clip-path=\"url(#clip710)\" cx=\"524\" cy=\"1515\" r=\"21.6\" fill=\"#440154\" fill-rule=\"evenodd\" fill-opacity=\"1\" stroke=\"#ffffff\" stroke-opacity=\"1\" stroke-width=\"3.6\"/>\n",
       "<circle clip-path=\"url(#clip710)\" cx=\"460\" cy=\"1395\" r=\"21.6\" fill=\"#440154\" fill-rule=\"evenodd\" fill-opacity=\"1\" stroke=\"#ffffff\" stroke-opacity=\"1\" stroke-width=\"3.6\"/>\n",
       "<circle clip-path=\"url(#clip710)\" cx=\"300\" cy=\"1515\" r=\"21.6\" fill=\"#440154\" fill-rule=\"evenodd\" fill-opacity=\"1\" stroke=\"#ffffff\" stroke-opacity=\"1\" stroke-width=\"3.6\"/>\n",
       "<circle clip-path=\"url(#clip710)\" cx=\"524\" cy=\"1335\" r=\"21.6\" fill=\"#440154\" fill-rule=\"evenodd\" fill-opacity=\"1\" stroke=\"#ffffff\" stroke-opacity=\"1\" stroke-width=\"3.6\"/>\n",
       "<circle clip-path=\"url(#clip710)\" cx=\"588\" cy=\"1515\" r=\"21.6\" fill=\"#440154\" fill-rule=\"evenodd\" fill-opacity=\"1\" stroke=\"#ffffff\" stroke-opacity=\"1\" stroke-width=\"3.6\"/>\n",
       "<circle clip-path=\"url(#clip710)\" cx=\"492\" cy=\"1515\" r=\"21.6\" fill=\"#440154\" fill-rule=\"evenodd\" fill-opacity=\"1\" stroke=\"#ffffff\" stroke-opacity=\"1\" stroke-width=\"3.6\"/>\n",
       "<circle clip-path=\"url(#clip710)\" cx=\"492\" cy=\"1395\" r=\"21.6\" fill=\"#440154\" fill-rule=\"evenodd\" fill-opacity=\"1\" stroke=\"#ffffff\" stroke-opacity=\"1\" stroke-width=\"3.6\"/>\n",
       "<circle clip-path=\"url(#clip710)\" cx=\"460\" cy=\"1515\" r=\"21.6\" fill=\"#440154\" fill-rule=\"evenodd\" fill-opacity=\"1\" stroke=\"#ffffff\" stroke-opacity=\"1\" stroke-width=\"3.6\"/>\n",
       "<circle clip-path=\"url(#clip710)\" cx=\"428\" cy=\"1515\" r=\"21.6\" fill=\"#440154\" fill-rule=\"evenodd\" fill-opacity=\"1\" stroke=\"#ffffff\" stroke-opacity=\"1\" stroke-width=\"3.6\"/>\n",
       "<circle clip-path=\"url(#clip710)\" cx=\"492\" cy=\"1515\" r=\"21.6\" fill=\"#440154\" fill-rule=\"evenodd\" fill-opacity=\"1\" stroke=\"#ffffff\" stroke-opacity=\"1\" stroke-width=\"3.6\"/>\n",
       "<circle clip-path=\"url(#clip710)\" cx=\"492\" cy=\"1515\" r=\"21.6\" fill=\"#440154\" fill-rule=\"evenodd\" fill-opacity=\"1\" stroke=\"#ffffff\" stroke-opacity=\"1\" stroke-width=\"3.6\"/>\n",
       "<circle clip-path=\"url(#clip710)\" cx=\"460\" cy=\"1395\" r=\"21.6\" fill=\"#440154\" fill-rule=\"evenodd\" fill-opacity=\"1\" stroke=\"#ffffff\" stroke-opacity=\"1\" stroke-width=\"3.6\"/>\n",
       "<circle clip-path=\"url(#clip710)\" cx=\"460\" cy=\"1575\" r=\"21.6\" fill=\"#440154\" fill-rule=\"evenodd\" fill-opacity=\"1\" stroke=\"#ffffff\" stroke-opacity=\"1\" stroke-width=\"3.6\"/>\n",
       "<circle clip-path=\"url(#clip710)\" cx=\"428\" cy=\"1515\" r=\"21.6\" fill=\"#440154\" fill-rule=\"evenodd\" fill-opacity=\"1\" stroke=\"#ffffff\" stroke-opacity=\"1\" stroke-width=\"3.6\"/>\n",
       "<circle clip-path=\"url(#clip710)\" cx=\"460\" cy=\"1575\" r=\"21.6\" fill=\"#440154\" fill-rule=\"evenodd\" fill-opacity=\"1\" stroke=\"#ffffff\" stroke-opacity=\"1\" stroke-width=\"3.6\"/>\n",
       "<circle clip-path=\"url(#clip710)\" cx=\"364\" cy=\"1515\" r=\"21.6\" fill=\"#440154\" fill-rule=\"evenodd\" fill-opacity=\"1\" stroke=\"#ffffff\" stroke-opacity=\"1\" stroke-width=\"3.6\"/>\n",
       "<circle clip-path=\"url(#clip710)\" cx=\"396\" cy=\"1515\" r=\"21.6\" fill=\"#440154\" fill-rule=\"evenodd\" fill-opacity=\"1\" stroke=\"#ffffff\" stroke-opacity=\"1\" stroke-width=\"3.6\"/>\n",
       "<circle clip-path=\"url(#clip710)\" cx=\"460\" cy=\"1575\" r=\"21.6\" fill=\"#440154\" fill-rule=\"evenodd\" fill-opacity=\"1\" stroke=\"#ffffff\" stroke-opacity=\"1\" stroke-width=\"3.6\"/>\n",
       "<circle clip-path=\"url(#clip710)\" cx=\"396\" cy=\"1515\" r=\"21.6\" fill=\"#440154\" fill-rule=\"evenodd\" fill-opacity=\"1\" stroke=\"#ffffff\" stroke-opacity=\"1\" stroke-width=\"3.6\"/>\n",
       "<circle clip-path=\"url(#clip710)\" cx=\"460\" cy=\"1515\" r=\"21.6\" fill=\"#440154\" fill-rule=\"evenodd\" fill-opacity=\"1\" stroke=\"#ffffff\" stroke-opacity=\"1\" stroke-width=\"3.6\"/>\n",
       "<circle clip-path=\"url(#clip710)\" cx=\"396\" cy=\"1455\" r=\"21.6\" fill=\"#440154\" fill-rule=\"evenodd\" fill-opacity=\"1\" stroke=\"#ffffff\" stroke-opacity=\"1\" stroke-width=\"3.6\"/>\n",
       "<circle clip-path=\"url(#clip710)\" cx=\"396\" cy=\"1455\" r=\"21.6\" fill=\"#440154\" fill-rule=\"evenodd\" fill-opacity=\"1\" stroke=\"#ffffff\" stroke-opacity=\"1\" stroke-width=\"3.6\"/>\n",
       "<circle clip-path=\"url(#clip710)\" cx=\"396\" cy=\"1515\" r=\"21.6\" fill=\"#440154\" fill-rule=\"evenodd\" fill-opacity=\"1\" stroke=\"#ffffff\" stroke-opacity=\"1\" stroke-width=\"3.6\"/>\n",
       "<circle clip-path=\"url(#clip710)\" cx=\"492\" cy=\"1275\" r=\"21.6\" fill=\"#440154\" fill-rule=\"evenodd\" fill-opacity=\"1\" stroke=\"#ffffff\" stroke-opacity=\"1\" stroke-width=\"3.6\"/>\n",
       "<circle clip-path=\"url(#clip710)\" cx=\"588\" cy=\"1395\" r=\"21.6\" fill=\"#440154\" fill-rule=\"evenodd\" fill-opacity=\"1\" stroke=\"#ffffff\" stroke-opacity=\"1\" stroke-width=\"3.6\"/>\n",
       "<circle clip-path=\"url(#clip710)\" cx=\"428\" cy=\"1455\" r=\"21.6\" fill=\"#440154\" fill-rule=\"evenodd\" fill-opacity=\"1\" stroke=\"#ffffff\" stroke-opacity=\"1\" stroke-width=\"3.6\"/>\n",
       "<circle clip-path=\"url(#clip710)\" cx=\"492\" cy=\"1515\" r=\"21.6\" fill=\"#440154\" fill-rule=\"evenodd\" fill-opacity=\"1\" stroke=\"#ffffff\" stroke-opacity=\"1\" stroke-width=\"3.6\"/>\n",
       "<circle clip-path=\"url(#clip710)\" cx=\"428\" cy=\"1515\" r=\"21.6\" fill=\"#440154\" fill-rule=\"evenodd\" fill-opacity=\"1\" stroke=\"#ffffff\" stroke-opacity=\"1\" stroke-width=\"3.6\"/>\n",
       "<circle clip-path=\"url(#clip710)\" cx=\"460\" cy=\"1515\" r=\"21.6\" fill=\"#440154\" fill-rule=\"evenodd\" fill-opacity=\"1\" stroke=\"#ffffff\" stroke-opacity=\"1\" stroke-width=\"3.6\"/>\n",
       "<circle clip-path=\"url(#clip710)\" cx=\"428\" cy=\"1515\" r=\"21.6\" fill=\"#440154\" fill-rule=\"evenodd\" fill-opacity=\"1\" stroke=\"#ffffff\" stroke-opacity=\"1\" stroke-width=\"3.6\"/>\n",
       "<circle clip-path=\"url(#clip710)\" cx=\"1484\" cy=\"795\" r=\"21.6\" fill=\"#21908d\" fill-rule=\"evenodd\" fill-opacity=\"1\" stroke=\"#ffffff\" stroke-opacity=\"1\" stroke-width=\"3.6\"/>\n",
       "<circle clip-path=\"url(#clip710)\" cx=\"1420\" cy=\"735\" r=\"21.6\" fill=\"#21908d\" fill-rule=\"evenodd\" fill-opacity=\"1\" stroke=\"#ffffff\" stroke-opacity=\"1\" stroke-width=\"3.6\"/>\n",
       "<circle clip-path=\"url(#clip710)\" cx=\"1548\" cy=\"735\" r=\"21.6\" fill=\"#21908d\" fill-rule=\"evenodd\" fill-opacity=\"1\" stroke=\"#ffffff\" stroke-opacity=\"1\" stroke-width=\"3.6\"/>\n",
       "<circle clip-path=\"url(#clip710)\" cx=\"1260\" cy=\"855\" r=\"21.6\" fill=\"#21908d\" fill-rule=\"evenodd\" fill-opacity=\"1\" stroke=\"#ffffff\" stroke-opacity=\"1\" stroke-width=\"3.6\"/>\n",
       "<circle clip-path=\"url(#clip710)\" cx=\"1452\" cy=\"735\" r=\"21.6\" fill=\"#21908d\" fill-rule=\"evenodd\" fill-opacity=\"1\" stroke=\"#ffffff\" stroke-opacity=\"1\" stroke-width=\"3.6\"/>\n",
       "<circle clip-path=\"url(#clip710)\" cx=\"1420\" cy=\"855\" r=\"21.6\" fill=\"#21908d\" fill-rule=\"evenodd\" fill-opacity=\"1\" stroke=\"#ffffff\" stroke-opacity=\"1\" stroke-width=\"3.6\"/>\n",
       "<circle clip-path=\"url(#clip710)\" cx=\"1484\" cy=\"675\" r=\"21.6\" fill=\"#21908d\" fill-rule=\"evenodd\" fill-opacity=\"1\" stroke=\"#ffffff\" stroke-opacity=\"1\" stroke-width=\"3.6\"/>\n",
       "<circle clip-path=\"url(#clip710)\" cx=\"1036\" cy=\"1035\" r=\"21.6\" fill=\"#21908d\" fill-rule=\"evenodd\" fill-opacity=\"1\" stroke=\"#ffffff\" stroke-opacity=\"1\" stroke-width=\"3.6\"/>\n",
       "<circle clip-path=\"url(#clip710)\" cx=\"1452\" cy=\"855\" r=\"21.6\" fill=\"#21908d\" fill-rule=\"evenodd\" fill-opacity=\"1\" stroke=\"#ffffff\" stroke-opacity=\"1\" stroke-width=\"3.6\"/>\n",
       "<circle clip-path=\"url(#clip710)\" cx=\"1228\" cy=\"795\" r=\"21.6\" fill=\"#21908d\" fill-rule=\"evenodd\" fill-opacity=\"1\" stroke=\"#ffffff\" stroke-opacity=\"1\" stroke-width=\"3.6\"/>\n",
       "<circle clip-path=\"url(#clip710)\" cx=\"1100\" cy=\"1035\" r=\"21.6\" fill=\"#21908d\" fill-rule=\"evenodd\" fill-opacity=\"1\" stroke=\"#ffffff\" stroke-opacity=\"1\" stroke-width=\"3.6\"/>\n",
       "<circle clip-path=\"url(#clip710)\" cx=\"1324\" cy=\"735\" r=\"21.6\" fill=\"#21908d\" fill-rule=\"evenodd\" fill-opacity=\"1\" stroke=\"#ffffff\" stroke-opacity=\"1\" stroke-width=\"3.6\"/>\n",
       "<circle clip-path=\"url(#clip710)\" cx=\"1260\" cy=\"1035\" r=\"21.6\" fill=\"#21908d\" fill-rule=\"evenodd\" fill-opacity=\"1\" stroke=\"#ffffff\" stroke-opacity=\"1\" stroke-width=\"3.6\"/>\n",
       "<circle clip-path=\"url(#clip710)\" cx=\"1484\" cy=\"795\" r=\"21.6\" fill=\"#21908d\" fill-rule=\"evenodd\" fill-opacity=\"1\" stroke=\"#ffffff\" stroke-opacity=\"1\" stroke-width=\"3.6\"/>\n",
       "<circle clip-path=\"url(#clip710)\" cx=\"1132\" cy=\"855\" r=\"21.6\" fill=\"#21908d\" fill-rule=\"evenodd\" fill-opacity=\"1\" stroke=\"#ffffff\" stroke-opacity=\"1\" stroke-width=\"3.6\"/>\n",
       "<circle clip-path=\"url(#clip710)\" cx=\"1388\" cy=\"795\" r=\"21.6\" fill=\"#21908d\" fill-rule=\"evenodd\" fill-opacity=\"1\" stroke=\"#ffffff\" stroke-opacity=\"1\" stroke-width=\"3.6\"/>\n",
       "<circle clip-path=\"url(#clip710)\" cx=\"1420\" cy=\"735\" r=\"21.6\" fill=\"#21908d\" fill-rule=\"evenodd\" fill-opacity=\"1\" stroke=\"#ffffff\" stroke-opacity=\"1\" stroke-width=\"3.6\"/>\n",
       "<circle clip-path=\"url(#clip710)\" cx=\"1292\" cy=\"1035\" r=\"21.6\" fill=\"#21908d\" fill-rule=\"evenodd\" fill-opacity=\"1\" stroke=\"#ffffff\" stroke-opacity=\"1\" stroke-width=\"3.6\"/>\n",
       "<circle clip-path=\"url(#clip710)\" cx=\"1420\" cy=\"735\" r=\"21.6\" fill=\"#21908d\" fill-rule=\"evenodd\" fill-opacity=\"1\" stroke=\"#ffffff\" stroke-opacity=\"1\" stroke-width=\"3.6\"/>\n",
       "<circle clip-path=\"url(#clip710)\" cx=\"1228\" cy=\"975\" r=\"21.6\" fill=\"#21908d\" fill-rule=\"evenodd\" fill-opacity=\"1\" stroke=\"#ffffff\" stroke-opacity=\"1\" stroke-width=\"3.6\"/>\n",
       "<circle clip-path=\"url(#clip710)\" cx=\"1516\" cy=\"555\" r=\"21.6\" fill=\"#21908d\" fill-rule=\"evenodd\" fill-opacity=\"1\" stroke=\"#ffffff\" stroke-opacity=\"1\" stroke-width=\"3.6\"/>\n",
       "<circle clip-path=\"url(#clip710)\" cx=\"1260\" cy=\"855\" r=\"21.6\" fill=\"#21908d\" fill-rule=\"evenodd\" fill-opacity=\"1\" stroke=\"#ffffff\" stroke-opacity=\"1\" stroke-width=\"3.6\"/>\n",
       "<circle clip-path=\"url(#clip710)\" cx=\"1548\" cy=\"735\" r=\"21.6\" fill=\"#21908d\" fill-rule=\"evenodd\" fill-opacity=\"1\" stroke=\"#ffffff\" stroke-opacity=\"1\" stroke-width=\"3.6\"/>\n",
       "<circle clip-path=\"url(#clip710)\" cx=\"1484\" cy=\"915\" r=\"21.6\" fill=\"#21908d\" fill-rule=\"evenodd\" fill-opacity=\"1\" stroke=\"#ffffff\" stroke-opacity=\"1\" stroke-width=\"3.6\"/>\n",
       "<circle clip-path=\"url(#clip710)\" cx=\"1356\" cy=\"855\" r=\"21.6\" fill=\"#21908d\" fill-rule=\"evenodd\" fill-opacity=\"1\" stroke=\"#ffffff\" stroke-opacity=\"1\" stroke-width=\"3.6\"/>\n",
       "<circle clip-path=\"url(#clip710)\" cx=\"1388\" cy=\"795\" r=\"21.6\" fill=\"#21908d\" fill-rule=\"evenodd\" fill-opacity=\"1\" stroke=\"#ffffff\" stroke-opacity=\"1\" stroke-width=\"3.6\"/>\n",
       "<circle clip-path=\"url(#clip710)\" cx=\"1516\" cy=\"795\" r=\"21.6\" fill=\"#21908d\" fill-rule=\"evenodd\" fill-opacity=\"1\" stroke=\"#ffffff\" stroke-opacity=\"1\" stroke-width=\"3.6\"/>\n",
       "<circle clip-path=\"url(#clip710)\" cx=\"1580\" cy=\"615\" r=\"21.6\" fill=\"#21908d\" fill-rule=\"evenodd\" fill-opacity=\"1\" stroke=\"#ffffff\" stroke-opacity=\"1\" stroke-width=\"3.6\"/>\n",
       "<circle clip-path=\"url(#clip710)\" cx=\"1420\" cy=\"735\" r=\"21.6\" fill=\"#21908d\" fill-rule=\"evenodd\" fill-opacity=\"1\" stroke=\"#ffffff\" stroke-opacity=\"1\" stroke-width=\"3.6\"/>\n",
       "<circle clip-path=\"url(#clip710)\" cx=\"1100\" cy=\"1035\" r=\"21.6\" fill=\"#21908d\" fill-rule=\"evenodd\" fill-opacity=\"1\" stroke=\"#ffffff\" stroke-opacity=\"1\" stroke-width=\"3.6\"/>\n",
       "<circle clip-path=\"url(#clip710)\" cx=\"1196\" cy=\"975\" r=\"21.6\" fill=\"#21908d\" fill-rule=\"evenodd\" fill-opacity=\"1\" stroke=\"#ffffff\" stroke-opacity=\"1\" stroke-width=\"3.6\"/>\n",
       "<circle clip-path=\"url(#clip710)\" cx=\"1164\" cy=\"1035\" r=\"21.6\" fill=\"#21908d\" fill-rule=\"evenodd\" fill-opacity=\"1\" stroke=\"#ffffff\" stroke-opacity=\"1\" stroke-width=\"3.6\"/>\n",
       "<circle clip-path=\"url(#clip710)\" cx=\"1228\" cy=\"915\" r=\"21.6\" fill=\"#21908d\" fill-rule=\"evenodd\" fill-opacity=\"1\" stroke=\"#ffffff\" stroke-opacity=\"1\" stroke-width=\"3.6\"/>\n",
       "<circle clip-path=\"url(#clip710)\" cx=\"1612\" cy=\"675\" r=\"21.6\" fill=\"#21908d\" fill-rule=\"evenodd\" fill-opacity=\"1\" stroke=\"#ffffff\" stroke-opacity=\"1\" stroke-width=\"3.6\"/>\n",
       "<circle clip-path=\"url(#clip710)\" cx=\"1420\" cy=\"735\" r=\"21.6\" fill=\"#21908d\" fill-rule=\"evenodd\" fill-opacity=\"1\" stroke=\"#ffffff\" stroke-opacity=\"1\" stroke-width=\"3.6\"/>\n",
       "<circle clip-path=\"url(#clip710)\" cx=\"1420\" cy=\"675\" r=\"21.6\" fill=\"#21908d\" fill-rule=\"evenodd\" fill-opacity=\"1\" stroke=\"#ffffff\" stroke-opacity=\"1\" stroke-width=\"3.6\"/>\n",
       "<circle clip-path=\"url(#clip710)\" cx=\"1484\" cy=\"735\" r=\"21.6\" fill=\"#21908d\" fill-rule=\"evenodd\" fill-opacity=\"1\" stroke=\"#ffffff\" stroke-opacity=\"1\" stroke-width=\"3.6\"/>\n",
       "<circle clip-path=\"url(#clip710)\" cx=\"1388\" cy=\"855\" r=\"21.6\" fill=\"#21908d\" fill-rule=\"evenodd\" fill-opacity=\"1\" stroke=\"#ffffff\" stroke-opacity=\"1\" stroke-width=\"3.6\"/>\n",
       "<circle clip-path=\"url(#clip710)\" cx=\"1292\" cy=\"855\" r=\"21.6\" fill=\"#21908d\" fill-rule=\"evenodd\" fill-opacity=\"1\" stroke=\"#ffffff\" stroke-opacity=\"1\" stroke-width=\"3.6\"/>\n",
       "<circle clip-path=\"url(#clip710)\" cx=\"1260\" cy=\"855\" r=\"21.6\" fill=\"#21908d\" fill-rule=\"evenodd\" fill-opacity=\"1\" stroke=\"#ffffff\" stroke-opacity=\"1\" stroke-width=\"3.6\"/>\n",
       "<circle clip-path=\"url(#clip710)\" cx=\"1388\" cy=\"915\" r=\"21.6\" fill=\"#21908d\" fill-rule=\"evenodd\" fill-opacity=\"1\" stroke=\"#ffffff\" stroke-opacity=\"1\" stroke-width=\"3.6\"/>\n",
       "<circle clip-path=\"url(#clip710)\" cx=\"1452\" cy=\"795\" r=\"21.6\" fill=\"#21908d\" fill-rule=\"evenodd\" fill-opacity=\"1\" stroke=\"#ffffff\" stroke-opacity=\"1\" stroke-width=\"3.6\"/>\n",
       "<circle clip-path=\"url(#clip710)\" cx=\"1260\" cy=\"915\" r=\"21.6\" fill=\"#21908d\" fill-rule=\"evenodd\" fill-opacity=\"1\" stroke=\"#ffffff\" stroke-opacity=\"1\" stroke-width=\"3.6\"/>\n",
       "<circle clip-path=\"url(#clip710)\" cx=\"1036\" cy=\"1035\" r=\"21.6\" fill=\"#21908d\" fill-rule=\"evenodd\" fill-opacity=\"1\" stroke=\"#ffffff\" stroke-opacity=\"1\" stroke-width=\"3.6\"/>\n",
       "<circle clip-path=\"url(#clip710)\" cx=\"1324\" cy=\"855\" r=\"21.6\" fill=\"#21908d\" fill-rule=\"evenodd\" fill-opacity=\"1\" stroke=\"#ffffff\" stroke-opacity=\"1\" stroke-width=\"3.6\"/>\n",
       "<circle clip-path=\"url(#clip710)\" cx=\"1324\" cy=\"915\" r=\"21.6\" fill=\"#21908d\" fill-rule=\"evenodd\" fill-opacity=\"1\" stroke=\"#ffffff\" stroke-opacity=\"1\" stroke-width=\"3.6\"/>\n",
       "<circle clip-path=\"url(#clip710)\" cx=\"1324\" cy=\"855\" r=\"21.6\" fill=\"#21908d\" fill-rule=\"evenodd\" fill-opacity=\"1\" stroke=\"#ffffff\" stroke-opacity=\"1\" stroke-width=\"3.6\"/>\n",
       "<circle clip-path=\"url(#clip710)\" cx=\"1356\" cy=\"855\" r=\"21.6\" fill=\"#21908d\" fill-rule=\"evenodd\" fill-opacity=\"1\" stroke=\"#ffffff\" stroke-opacity=\"1\" stroke-width=\"3.6\"/>\n",
       "<circle clip-path=\"url(#clip710)\" cx=\"940\" cy=\"975\" r=\"21.6\" fill=\"#21908d\" fill-rule=\"evenodd\" fill-opacity=\"1\" stroke=\"#ffffff\" stroke-opacity=\"1\" stroke-width=\"3.6\"/>\n",
       "<circle clip-path=\"url(#clip710)\" cx=\"1292\" cy=\"855\" r=\"21.6\" fill=\"#21908d\" fill-rule=\"evenodd\" fill-opacity=\"1\" stroke=\"#ffffff\" stroke-opacity=\"1\" stroke-width=\"3.6\"/>\n",
       "<circle clip-path=\"url(#clip710)\" cx=\"1900\" cy=\"135\" r=\"21.6\" fill=\"#fde725\" fill-rule=\"evenodd\" fill-opacity=\"1\" stroke=\"#ffffff\" stroke-opacity=\"1\" stroke-width=\"3.6\"/>\n",
       "<circle clip-path=\"url(#clip710)\" cx=\"1612\" cy=\"495\" r=\"21.6\" fill=\"#fde725\" fill-rule=\"evenodd\" fill-opacity=\"1\" stroke=\"#ffffff\" stroke-opacity=\"1\" stroke-width=\"3.6\"/>\n",
       "<circle clip-path=\"url(#clip710)\" cx=\"1868\" cy=\"375\" r=\"21.6\" fill=\"#fde725\" fill-rule=\"evenodd\" fill-opacity=\"1\" stroke=\"#ffffff\" stroke-opacity=\"1\" stroke-width=\"3.6\"/>\n",
       "<circle clip-path=\"url(#clip710)\" cx=\"1772\" cy=\"555\" r=\"21.6\" fill=\"#fde725\" fill-rule=\"evenodd\" fill-opacity=\"1\" stroke=\"#ffffff\" stroke-opacity=\"1\" stroke-width=\"3.6\"/>\n",
       "<circle clip-path=\"url(#clip710)\" cx=\"1836\" cy=\"315\" r=\"21.6\" fill=\"#fde725\" fill-rule=\"evenodd\" fill-opacity=\"1\" stroke=\"#ffffff\" stroke-opacity=\"1\" stroke-width=\"3.6\"/>\n",
       "<circle clip-path=\"url(#clip710)\" cx=\"2092\" cy=\"375\" r=\"21.6\" fill=\"#fde725\" fill-rule=\"evenodd\" fill-opacity=\"1\" stroke=\"#ffffff\" stroke-opacity=\"1\" stroke-width=\"3.6\"/>\n",
       "<circle clip-path=\"url(#clip710)\" cx=\"1420\" cy=\"615\" r=\"21.6\" fill=\"#fde725\" fill-rule=\"evenodd\" fill-opacity=\"1\" stroke=\"#ffffff\" stroke-opacity=\"1\" stroke-width=\"3.6\"/>\n",
       "<circle clip-path=\"url(#clip710)\" cx=\"1996\" cy=\"555\" r=\"21.6\" fill=\"#fde725\" fill-rule=\"evenodd\" fill-opacity=\"1\" stroke=\"#ffffff\" stroke-opacity=\"1\" stroke-width=\"3.6\"/>\n",
       "<circle clip-path=\"url(#clip710)\" cx=\"1836\" cy=\"555\" r=\"21.6\" fill=\"#fde725\" fill-rule=\"evenodd\" fill-opacity=\"1\" stroke=\"#ffffff\" stroke-opacity=\"1\" stroke-width=\"3.6\"/>\n",
       "<circle clip-path=\"url(#clip710)\" cx=\"1932\" cy=\"135\" r=\"21.6\" fill=\"#fde725\" fill-rule=\"evenodd\" fill-opacity=\"1\" stroke=\"#ffffff\" stroke-opacity=\"1\" stroke-width=\"3.6\"/>\n",
       "<circle clip-path=\"url(#clip710)\" cx=\"1612\" cy=\"435\" r=\"21.6\" fill=\"#fde725\" fill-rule=\"evenodd\" fill-opacity=\"1\" stroke=\"#ffffff\" stroke-opacity=\"1\" stroke-width=\"3.6\"/>\n",
       "<circle clip-path=\"url(#clip710)\" cx=\"1676\" cy=\"495\" r=\"21.6\" fill=\"#fde725\" fill-rule=\"evenodd\" fill-opacity=\"1\" stroke=\"#ffffff\" stroke-opacity=\"1\" stroke-width=\"3.6\"/>\n",
       "<circle clip-path=\"url(#clip710)\" cx=\"1740\" cy=\"375\" r=\"21.6\" fill=\"#fde725\" fill-rule=\"evenodd\" fill-opacity=\"1\" stroke=\"#ffffff\" stroke-opacity=\"1\" stroke-width=\"3.6\"/>\n",
       "<circle clip-path=\"url(#clip710)\" cx=\"1580\" cy=\"435\" r=\"21.6\" fill=\"#fde725\" fill-rule=\"evenodd\" fill-opacity=\"1\" stroke=\"#ffffff\" stroke-opacity=\"1\" stroke-width=\"3.6\"/>\n",
       "<circle clip-path=\"url(#clip710)\" cx=\"1612\" cy=\"195\" r=\"21.6\" fill=\"#fde725\" fill-rule=\"evenodd\" fill-opacity=\"1\" stroke=\"#ffffff\" stroke-opacity=\"1\" stroke-width=\"3.6\"/>\n",
       "<circle clip-path=\"url(#clip710)\" cx=\"1676\" cy=\"255\" r=\"21.6\" fill=\"#fde725\" fill-rule=\"evenodd\" fill-opacity=\"1\" stroke=\"#ffffff\" stroke-opacity=\"1\" stroke-width=\"3.6\"/>\n",
       "<circle clip-path=\"url(#clip710)\" cx=\"1740\" cy=\"555\" r=\"21.6\" fill=\"#fde725\" fill-rule=\"evenodd\" fill-opacity=\"1\" stroke=\"#ffffff\" stroke-opacity=\"1\" stroke-width=\"3.6\"/>\n",
       "<circle clip-path=\"url(#clip710)\" cx=\"2124\" cy=\"315\" r=\"21.6\" fill=\"#fde725\" fill-rule=\"evenodd\" fill-opacity=\"1\" stroke=\"#ffffff\" stroke-opacity=\"1\" stroke-width=\"3.6\"/>\n",
       "<circle clip-path=\"url(#clip710)\" cx=\"2188\" cy=\"255\" r=\"21.6\" fill=\"#fde725\" fill-rule=\"evenodd\" fill-opacity=\"1\" stroke=\"#ffffff\" stroke-opacity=\"1\" stroke-width=\"3.6\"/>\n",
       "<circle clip-path=\"url(#clip710)\" cx=\"1580\" cy=\"735\" r=\"21.6\" fill=\"#fde725\" fill-rule=\"evenodd\" fill-opacity=\"1\" stroke=\"#ffffff\" stroke-opacity=\"1\" stroke-width=\"3.6\"/>\n",
       "<circle clip-path=\"url(#clip710)\" cx=\"1804\" cy=\"255\" r=\"21.6\" fill=\"#fde725\" fill-rule=\"evenodd\" fill-opacity=\"1\" stroke=\"#ffffff\" stroke-opacity=\"1\" stroke-width=\"3.6\"/>\n",
       "<circle clip-path=\"url(#clip710)\" cx=\"1548\" cy=\"435\" r=\"21.6\" fill=\"#fde725\" fill-rule=\"evenodd\" fill-opacity=\"1\" stroke=\"#ffffff\" stroke-opacity=\"1\" stroke-width=\"3.6\"/>\n",
       "<circle clip-path=\"url(#clip710)\" cx=\"2124\" cy=\"435\" r=\"21.6\" fill=\"#fde725\" fill-rule=\"evenodd\" fill-opacity=\"1\" stroke=\"#ffffff\" stroke-opacity=\"1\" stroke-width=\"3.6\"/>\n",
       "<circle clip-path=\"url(#clip710)\" cx=\"1548\" cy=\"555\" r=\"21.6\" fill=\"#fde725\" fill-rule=\"evenodd\" fill-opacity=\"1\" stroke=\"#ffffff\" stroke-opacity=\"1\" stroke-width=\"3.6\"/>\n",
       "<circle clip-path=\"url(#clip710)\" cx=\"1804\" cy=\"375\" r=\"21.6\" fill=\"#fde725\" fill-rule=\"evenodd\" fill-opacity=\"1\" stroke=\"#ffffff\" stroke-opacity=\"1\" stroke-width=\"3.6\"/>\n",
       "<circle clip-path=\"url(#clip710)\" cx=\"1900\" cy=\"555\" r=\"21.6\" fill=\"#fde725\" fill-rule=\"evenodd\" fill-opacity=\"1\" stroke=\"#ffffff\" stroke-opacity=\"1\" stroke-width=\"3.6\"/>\n",
       "<circle clip-path=\"url(#clip710)\" cx=\"1516\" cy=\"555\" r=\"21.6\" fill=\"#fde725\" fill-rule=\"evenodd\" fill-opacity=\"1\" stroke=\"#ffffff\" stroke-opacity=\"1\" stroke-width=\"3.6\"/>\n",
       "<circle clip-path=\"url(#clip710)\" cx=\"1548\" cy=\"555\" r=\"21.6\" fill=\"#fde725\" fill-rule=\"evenodd\" fill-opacity=\"1\" stroke=\"#ffffff\" stroke-opacity=\"1\" stroke-width=\"3.6\"/>\n",
       "<circle clip-path=\"url(#clip710)\" cx=\"1772\" cy=\"375\" r=\"21.6\" fill=\"#fde725\" fill-rule=\"evenodd\" fill-opacity=\"1\" stroke=\"#ffffff\" stroke-opacity=\"1\" stroke-width=\"3.6\"/>\n",
       "<circle clip-path=\"url(#clip710)\" cx=\"1836\" cy=\"675\" r=\"21.6\" fill=\"#fde725\" fill-rule=\"evenodd\" fill-opacity=\"1\" stroke=\"#ffffff\" stroke-opacity=\"1\" stroke-width=\"3.6\"/>\n",
       "<circle clip-path=\"url(#clip710)\" cx=\"1932\" cy=\"495\" r=\"21.6\" fill=\"#fde725\" fill-rule=\"evenodd\" fill-opacity=\"1\" stroke=\"#ffffff\" stroke-opacity=\"1\" stroke-width=\"3.6\"/>\n",
       "<circle clip-path=\"url(#clip710)\" cx=\"2028\" cy=\"435\" r=\"21.6\" fill=\"#fde725\" fill-rule=\"evenodd\" fill-opacity=\"1\" stroke=\"#ffffff\" stroke-opacity=\"1\" stroke-width=\"3.6\"/>\n",
       "<circle clip-path=\"url(#clip710)\" cx=\"1772\" cy=\"315\" r=\"21.6\" fill=\"#fde725\" fill-rule=\"evenodd\" fill-opacity=\"1\" stroke=\"#ffffff\" stroke-opacity=\"1\" stroke-width=\"3.6\"/>\n",
       "<circle clip-path=\"url(#clip710)\" cx=\"1612\" cy=\"735\" r=\"21.6\" fill=\"#fde725\" fill-rule=\"evenodd\" fill-opacity=\"1\" stroke=\"#ffffff\" stroke-opacity=\"1\" stroke-width=\"3.6\"/>\n",
       "<circle clip-path=\"url(#clip710)\" cx=\"1772\" cy=\"795\" r=\"21.6\" fill=\"#fde725\" fill-rule=\"evenodd\" fill-opacity=\"1\" stroke=\"#ffffff\" stroke-opacity=\"1\" stroke-width=\"3.6\"/>\n",
       "<circle clip-path=\"url(#clip710)\" cx=\"1932\" cy=\"255\" r=\"21.6\" fill=\"#fde725\" fill-rule=\"evenodd\" fill-opacity=\"1\" stroke=\"#ffffff\" stroke-opacity=\"1\" stroke-width=\"3.6\"/>\n",
       "<circle clip-path=\"url(#clip710)\" cx=\"1772\" cy=\"195\" r=\"21.6\" fill=\"#fde725\" fill-rule=\"evenodd\" fill-opacity=\"1\" stroke=\"#ffffff\" stroke-opacity=\"1\" stroke-width=\"3.6\"/>\n",
       "<circle clip-path=\"url(#clip710)\" cx=\"1740\" cy=\"555\" r=\"21.6\" fill=\"#fde725\" fill-rule=\"evenodd\" fill-opacity=\"1\" stroke=\"#ffffff\" stroke-opacity=\"1\" stroke-width=\"3.6\"/>\n",
       "<circle clip-path=\"url(#clip710)\" cx=\"1516\" cy=\"555\" r=\"21.6\" fill=\"#fde725\" fill-rule=\"evenodd\" fill-opacity=\"1\" stroke=\"#ffffff\" stroke-opacity=\"1\" stroke-width=\"3.6\"/>\n",
       "<circle clip-path=\"url(#clip710)\" cx=\"1708\" cy=\"375\" r=\"21.6\" fill=\"#fde725\" fill-rule=\"evenodd\" fill-opacity=\"1\" stroke=\"#ffffff\" stroke-opacity=\"1\" stroke-width=\"3.6\"/>\n",
       "<circle clip-path=\"url(#clip710)\" cx=\"1772\" cy=\"195\" r=\"21.6\" fill=\"#fde725\" fill-rule=\"evenodd\" fill-opacity=\"1\" stroke=\"#ffffff\" stroke-opacity=\"1\" stroke-width=\"3.6\"/>\n",
       "<circle clip-path=\"url(#clip710)\" cx=\"1612\" cy=\"255\" r=\"21.6\" fill=\"#fde725\" fill-rule=\"evenodd\" fill-opacity=\"1\" stroke=\"#ffffff\" stroke-opacity=\"1\" stroke-width=\"3.6\"/>\n",
       "<circle clip-path=\"url(#clip710)\" cx=\"1612\" cy=\"495\" r=\"21.6\" fill=\"#fde725\" fill-rule=\"evenodd\" fill-opacity=\"1\" stroke=\"#ffffff\" stroke-opacity=\"1\" stroke-width=\"3.6\"/>\n",
       "<circle clip-path=\"url(#clip710)\" cx=\"1868\" cy=\"255\" r=\"21.6\" fill=\"#fde725\" fill-rule=\"evenodd\" fill-opacity=\"1\" stroke=\"#ffffff\" stroke-opacity=\"1\" stroke-width=\"3.6\"/>\n",
       "<circle clip-path=\"url(#clip710)\" cx=\"1804\" cy=\"135\" r=\"21.6\" fill=\"#fde725\" fill-rule=\"evenodd\" fill-opacity=\"1\" stroke=\"#ffffff\" stroke-opacity=\"1\" stroke-width=\"3.6\"/>\n",
       "<circle clip-path=\"url(#clip710)\" cx=\"1644\" cy=\"255\" r=\"21.6\" fill=\"#fde725\" fill-rule=\"evenodd\" fill-opacity=\"1\" stroke=\"#ffffff\" stroke-opacity=\"1\" stroke-width=\"3.6\"/>\n",
       "<circle clip-path=\"url(#clip710)\" cx=\"1580\" cy=\"495\" r=\"21.6\" fill=\"#fde725\" fill-rule=\"evenodd\" fill-opacity=\"1\" stroke=\"#ffffff\" stroke-opacity=\"1\" stroke-width=\"3.6\"/>\n",
       "<circle clip-path=\"url(#clip710)\" cx=\"1644\" cy=\"435\" r=\"21.6\" fill=\"#fde725\" fill-rule=\"evenodd\" fill-opacity=\"1\" stroke=\"#ffffff\" stroke-opacity=\"1\" stroke-width=\"3.6\"/>\n",
       "<circle clip-path=\"url(#clip710)\" cx=\"1708\" cy=\"255\" r=\"21.6\" fill=\"#fde725\" fill-rule=\"evenodd\" fill-opacity=\"1\" stroke=\"#ffffff\" stroke-opacity=\"1\" stroke-width=\"3.6\"/>\n",
       "<circle clip-path=\"url(#clip710)\" cx=\"1612\" cy=\"555\" r=\"21.6\" fill=\"#fde725\" fill-rule=\"evenodd\" fill-opacity=\"1\" stroke=\"#ffffff\" stroke-opacity=\"1\" stroke-width=\"3.6\"/>\n",
       "</svg>"
      ],
      "text/plain": [
       "<IPython.core.display.SVG object>"
      ]
     },
     "metadata": {},
     "output_type": "display_data"
    }
   ],
   "source": [
    "# Scatterplot of sepal length vs. sepal width using gr colored by species\n",
    "import gr\n",
    "import gr.pygr as pygr\n",
    "pygr.scatter(\n",
    "    df['petal_length'],                 # X values\n",
    "    df['petal_width'],                  # Y values\n",
    "    200 * np.ones_like(df['species']),  # Size of the points in the scatterplot\n",
    "    df['species_color_code']            # Color of the points in the scatterplot\n",
    ")"
   ]
  },
  {
   "cell_type": "markdown",
   "id": "60754009",
   "metadata": {},
   "source": [
    "Boxplot of petal length by species using seaborn."
   ]
  },
  {
   "cell_type": "code",
   "execution_count": 17,
   "id": "c30a6459",
   "metadata": {},
   "outputs": [
    {
     "data": {
      "text/plain": [
       "<Axes: xlabel='species', ylabel='petal_length'>"
      ]
     },
     "execution_count": 17,
     "metadata": {},
     "output_type": "execute_result"
    },
    {
     "data": {
      "image/png": "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",
      "text/plain": [
       "<Figure size 400x400 with 1 Axes>"
      ]
     },
     "metadata": {},
     "output_type": "display_data"
    }
   ],
   "source": [
    "fig, ax = plt.subplots(1, 1, figsize=(4, 4))\n",
    "sns.boxplot(x='species', y='petal_length', data=df, hue='species', ax=ax)"
   ]
  },
  {
   "cell_type": "markdown",
   "id": "b275eed7",
   "metadata": {},
   "source": [
    "Histogram of petal length by species using seaborn."
   ]
  },
  {
   "cell_type": "code",
   "execution_count": 18,
   "id": "24fba2cd",
   "metadata": {},
   "outputs": [
    {
     "data": {
      "image/png": "iVBORw0KGgoAAAANSUhEUgAAAv8AAAE8CAYAAABXb96lAAAAOXRFWHRTb2Z0d2FyZQBNYXRwbG90bGliIHZlcnNpb24zLjguMiwgaHR0cHM6Ly9tYXRwbG90bGliLm9yZy8g+/7EAAAACXBIWXMAAA9hAAAPYQGoP6dpAABE7ElEQVR4nO3deXhU5dnH8d8AySQsCYYQSCAhEZFNDAJCQS1B0JgibnWpAkYoLgUExQVjRYhbtG5xiSAuQCsIvihILcKLLGItIiRERRZBllAE0iBkCIQhJM/7h2+mDlnIMpn1+7muua6cZc65z8zcJ/ecec7zWIwxRgAAAAD8XiNPBwAAAADAPSj+AQAAgABB8Q8AAAAECIp/AAAAIEBQ/AMAAAABguIfAAAACBAU/wAAAECAoPgHAAAAAgTFPwAAABAgKP4BAPVyxx13KD4+vsG2n5SUpKSkpAbbPuDrpk2bJovF4vLt1if3Gvq8gLqj+EeD+te//qVp06bp6NGjng4FAAAg4FmMMcbTQcB/vfDCC3rooYe0e/durgAAfqqkpERlZWWyWq0Nsv3yK49r1qxpkO0Dvu706dM6ffq0QkJCXLrdU6dOSZKCg4Nr/dyGPi+g7pp4OgAAgPc5fvy4mjVrVqN1g4KCGjga1zl9+rTKysrqVMwA3qpJkyZq0qT6kq6srEynTp2q1ReE+uSJL50XAg3NflCpY8eO6b777lN8fLysVquioqJ0xRVXKCcnx7HO+vXrddVVVyk8PFxNmzbVwIED9eWXXzqWT5s2TQ899JAkKSEhQRaLRRaLRXv27JH0yz/hJ598Uh07dpTValV8fLweffRR2e12p1g2btyo5ORkRUZGKjQ0VAkJCRo9erTTOi+88IIGDBigVq1aKTQ0VL1799bChQsb6NUBPGvhwoWyWCz6/PPPKyx78803ZbFYtHnzZknStm3bdOONNyoiIkIhISHq06ePlixZ4vSc2bNnO7Y3duxYRUVFqX379pJqdi6orG1vWVmZXnnlFfXo0UMhISFq3bq1rrrqKm3cuNGxTk3PAZXJz8/XH//4R7Vp00YhISFKTEzUnDlznNbZs2ePLBaLXnjhBWVmZjr2s2XLlrNuH/AGNc31ytr8WywWjR8/XnPnzlX37t1ltVq1bNkySdK3336rgQMHKjQ0VO3bt9dTTz2lWbNmOf2Pliq2+V+zZo0sFos++OADPf3002rfvr1CQkI0ePBg7dy502n/dT0vzJo1S5dffrmioqJktVrVrVs3TZ8+vY6vICrDlX9U6p577tHChQs1fvx4devWTYcPH9Y///lPbd26Vb169dKqVauUkpKi3r17a+rUqWrUqJEjYb/44gv17dtXN9xwg3744Qe9//77evnllxUZGSlJat26tSRpzJgxmjNnjm688UY98MADWr9+vTIyMrR161YtWrRI0i//4K+88kq1bt1ajzzyiFq2bKk9e/boo48+cor3lVde0TXXXKPhw4fr1KlTmj9/vm666SZ98sknGjp0qHtfPKCBDR06VM2bN9cHH3yggQMHOi1bsGCBunfvrgsuuEDff/+9LrnkErVr106PPPKImjVrpg8++EDXXXedPvzwQ11//fVOzx07dqxat26txx9/XMePH5d09nNBVf74xz9q9uzZSklJ0ZgxY3T69Gl98cUX+uqrr9SnTx9JNTsHVKa4uFhJSUnauXOnxo8fr4SEBP3P//yP7rjjDh09elQTJ050Wn/WrFk6efKk7rrrLlmtVkVERNTq9QY8paa5XtXFrlWrVumDDz7Q+PHjFRkZqfj4eO3fv1+DBg2SxWJRWlqamjVrprfffrtWzXOeffZZNWrUSA8++KAKCwv1l7/8RcOHD9f69eurfV5NzgvTp09X9+7ddc0116hJkyb6+9//rrFjx6qsrEzjxo2rcYyohgEqER4ebsaNG1fpsrKyMtOpUyeTnJxsysrKHPNPnDhhEhISzBVXXOGY9/zzzxtJZvfu3U7byM3NNZLMmDFjnOY/+OCDRpJZtWqVMcaYRYsWGUlmw4YN1cZ74sQJp+lTp06ZCy64wFx++eVnPVbAF916660mKirKnD592jHvwIEDplGjRuaJJ54wxhgzePBg06NHD3Py5EnHOmVlZWbAgAGmU6dOjnmzZs0yksyll17qtD1jqj8XlEtNTTUdOnRwTK9atcpIMhMmTKiwbvk5o6bnAGOMGThwoBk4cKBjOjMz00gy7733nmPeqVOnTP/+/U3z5s2NzWYzxhize/duI8mEhYWZ/Pz8ao8B8FY1yfWpU6eaM0s6SaZRo0bm+++/d5p/7733GovFYjZt2uSYd/jwYRMREVHh//WZubd69WojyXTt2tXY7XbH/FdeecVIMt99951jXl3OC8ZU/H9ujDHJycnm3HPPrTAfdUOzH1SqZcuWWr9+vX766acKy3Jzc7Vjxw7ddtttOnz4sAoKClRQUKDjx49r8ODBWrt2rcrKyqrd/tKlSyVJkyZNcpr/wAMPSJL+8Y9/OOKQpE8++UQlJSVVbi80NNTx95EjR1RYWKjLLrvMqWkC4E9uueUW5efnO90Eu3DhQpWVlemWW27Rzz//rFWrVunmm2/WsWPHHHl6+PBhJScna8eOHdq/f7/TNu+88041btzYaV5154KqfPjhh7JYLJo6dWqFZeVNE2p6DqjM0qVL1bZtW916662OeUFBQZowYYKKiooqNJH4/e9/7/jFEfA1Z8v16gwcOFDdunVzmrds2TL1799fPXv2dMyLiIjQ8OHDaxzTqFGjnO4HuOyyyyRJu3btqvI5NTkvSM7/zwsLC1VQUKCBAwdq165dKiwsrHGMqBrFPyr1l7/8RZs3b1ZsbKz69u2radOmOZJ6x44dkqTU1FS1bt3a6fH222/LbrefNUH37t2rRo0a6bzzznOa37ZtW7Vs2VJ79+6V9MuJ6/e//73S09MVGRmpa6+9VrNmzarQJviTTz7Rb37zG4WEhCgiIkKtW7fW9OnTOVHAb5Xfb7NgwQLHvAULFqhnz546//zztXPnThljNGXKlAp5Wv7PNz8/32mbCQkJFfZT3bmgKj/++KNiYmKqbV5T03NAVc/t1KmTGjVy/hfWtWtXx/KzHRfgK86W69Wp7LO/d+/eCnknqdJ5VYmLi3OaPueccyT9cvGtKjU5L0jSl19+qSFDhqhZs2Zq2bKlWrdurUcffVSS+J/uIhT/qNTNN9+sXbt26bXXXlNMTIyef/55de/eXZ9++qnjqv7zzz+vFStWVPpo3rx5jfZztkFJLBaLFi5cqHXr1mn8+PHav3+/Ro8erd69e6uoqEiS9MUXX+iaa65RSEiI3njjDS1dulQrVqzQbbfdJkNPtvBTVqtV1113nRYtWqTTp09r//79+vLLLx1XAsvz9MEHH6wyT8/8Z//rK27lqjsXuEJDDEx0psqOC/AVZ8v16jTUZ//MXwjL1fd/7o8//qjBgweroKBAL730kv7xj39oxYoVuv/++yXprK0KUDPc8IsqRUdHa+zYsRo7dqzy8/PVq1cvPf3003r55ZclSWFhYRoyZEi126jqH3uHDh1UVlamHTt2OK7WSdKhQ4d09OhRdejQwWn93/zmN/rNb36jp59+WvPmzdPw4cM1f/58jRkzRh9++KFCQkK0fPlypxuWZs2aVddDB3zCLbfcojlz5mjlypXaunWrjDGOguDcc8+V9EtzmLPl6dlUdS5ISUmpdP2OHTtq+fLl+vnnn6u8ylfbc8CZz/32229VVlbmdPV/27ZtjuWAP6ku12urQ4cOFXrmkVTpPFeqyXnh73//u+x2u5YsWeL068Lq1asbNLZAw5V/VFBaWlrhp7WoqCjFxMTIbrerd+/e6tixo1544QXH1fdf+89//uP4u7yf8DNH+P3d734nScrMzHSa/9JLL0mSo4eeI0eOVLiSUN5OsbzpT+PGjWWxWFRaWupYZ8+ePVq8eHENjhbwXUOGDFFERIQWLFigBQsWqG/fvo6f+aOiopSUlKQ333xTBw4cqPDcX+dpVc52LqjK73//exljlJ6eXmFZeT7X9BxQmd/97nc6ePCgUzOI06dP67XXXlPz5s0r9IoC+Lrqcr22kpOTtW7dOuXm5jrm/fzzz5o7d66Loq1cTc4L5b8o/Pr/fmFhIRfzXIwr/6jg2LFjat++vW688UYlJiaqefPm+uyzz7Rhwwa9+OKLatSokd5++22lpKSoe/fuGjVqlNq1a6f9+/dr9erVCgsL09///ndJUu/evSVJf/7zn/WHP/xBQUFBGjZsmBITE5WamqqZM2fq6NGjGjhwoL7++mvNmTNH1113nQYNGiRJmjNnjt544w1df/316tixo44dO6a33npLYWFhjuJh6NCheumll3TVVVfptttuU35+vrKysnTeeefp22+/9cyLCLhBUFCQbrjhBs2fP1/Hjx/XCy+84LQ8KytLl156qXr06KE777xT5557rg4dOqR169bp3//+t7755ptqt3+2c0FVBg0apJEjR+rVV1/Vjh07dNVVV6msrExffPGFBg0apPHjx9f4HFCZu+66S2+++abuuOMOZWdnKz4+XgsXLtSXX36pzMxMtWjRonYvJODlzpbrtfHwww/rvffe0xVXXKF7773X0dVnXFycfv755wZrileT88KVV16p4OBgDRs2THfffbeKior01ltvKSoqqtKLGKgjD/UyBC9mt9vNQw89ZBITE02LFi1Ms2bNTGJionnjjTec1tu0aZO54YYbTKtWrYzVajUdOnQwN998s1m5cqXTek8++aRp166dadSokVM3YiUlJSY9Pd0kJCSYoKAgExsba9LS0py6JczJyTG33nqriYuLM1ar1URFRZmrr77abNy40Wkf77zzjunUqZOxWq2mS5cuZtasWZV2fQb4mxUrVhhJxmKxmH379lVY/uOPP5rbb7/dtG3b1gQFBZl27dqZq6++2ixcuNCxTnlXn2d2qVvTc8GZXfoZY8zp06fN888/b7p06WKCg4NN69atTUpKisnOznasU5NzgDEVuxs0xphDhw6ZUaNGmcjISBMcHGx69OhhZs2a5bROeVefzz///NleRsDrVZfrVXX1WVU3vZs2bTKXXXaZsVqtpn379iYjI8O8+uqrRpI5ePCgY72quvr8n//5H6ftlefar3OwrueFJUuWmAsvvNCEhISY+Ph489xzz5l333230m7DUTcWY7gjEgAAIJDdd999evPNN1VUVFTlDb3wD7T5BwAACCDFxcVO04cPH9bf/vY3XXrppRT+AYA2/wAAAAGkf//+SkpKUteuXXXo0CG98847stlsmjJliqdDgxtQ/AMAAASQ3/3ud1q4cKFmzpwpi8WiXr166Z133tFvf/tbT4cGN6DNPwAAABAgaPMPAAAABAiKfwAAACBA+H2b/7KyMv30009q0aJFgw1cAfgTY4yOHTummJgYNWrkndcHyGugdshrwP/UNa/9vvj/6aefFBsb6+kwAJ+zb98+tW/f3tNhVIq8BuqGvAb8T23z2u+L//Jh3vft26ewsDAPRwN4P5vNptjYWEfueCPyGqgd8hrwP3XNa78v/st/OgwLC+NkAtSCN//sTl4DdUNeA/6ntnntnQ3/AAAAALgcxT8AAAAQICj+AQAAgABB8Q8AAAAECI8W/2vXrtWwYcMUExMji8WixYsXV7nuPffcI4vFoszMTLfFBwAAAPgTjxb/x48fV2JiorKysqpdb9GiRfrqq68UExPjpsgAAAAA/+PRrj5TUlKUkpJS7Tr79+/Xvffeq+XLl2vo0KFuigwAAADwP17dz39ZWZlGjhyphx56SN27d6/Rc+x2u+x2u2PaZrM1VHiop7y8PBUUFLhkW5GRkYqLi3PJtgD4N1eee6rDecn3ueuzIvF5gft4dfH/3HPPqUmTJpowYUKNn5ORkaH09PQGjAqukJeXpy5duqq4+IRLthca2lTbtm3lxAmgWq4+91SH85Jvc+dnReLzAvfx2uI/Oztbr7zyinJycmo1cllaWpomTZrkmC4f+hjepaCgQMXFJ9Rv9FSFRcfXa1u2A3u0/t10FRQUcNIEUC1Xnnuqw3nJ97nrsyLxeYF7eW3x/8UXXyg/P98pCUpLS/XAAw8oMzNTe/bsqfR5VqtVVqvVTVGivsKi4xUR19nTYQAIMJx7UFN8VuBvvLb4HzlypIYMGeI0Lzk5WSNHjtSoUaM8FBUAAADguzxa/BcVFWnnzp2O6d27dys3N1cRERGKi4tTq1atnNYPCgpS27Zt1bkz38ABAACA2vJo8b9x40YNGjTIMV3eVj81NVWzZ8/2UFQAAACAf/Jo8Z+UlCRjTI3Xr6qdPwAAAICz8+gIvwAAAADch+IfAAAACBAU/wAAAECAoPgHAAAAAgTFPwCXWrt2rYYNG6aYmBhZLBYtXry4ynXvueceWSwWZWZmui0+AAACGcU/AJc6fvy4EhMTlZWVVe16ixYt0ldffaWYmBg3RQYAACj+AbhUSkqKnnrqKV1//fVVrrN//37de++9mjt3roKCgs66TbvdLpvN5vQA4D7V/aJXUlKiyZMnq0ePHmrWrJliYmJ0++2366effvJcwACqRPEPwK3Kyso0cuRIPfTQQ+revXuNnpORkaHw8HDHIzY2toGjBPBr1f2id+LECeXk5GjKlCnKycnRRx99pO3bt+uaa67xQKQAzsajg3wBCDzPPfecmjRpogkTJtT4OWlpaY4RwCXJZrPxBQBwo5SUFKWkpFS6LDw8XCtWrHCa9/rrr6tv377Ky8tTXFycO0IEUEMU/wDcJjs7W6+88opycnJksVhq/Dyr1Sqr1dqAkQFwpcLCQlksFrVs2bLKdex2u+x2u2Oa5nzuk5eXp4KCggbfT2RkJF/+vBDFPwC3+eKLL5Sfn+/0z6C0tFQPPPCAMjMztWfPHs8FB8AlTp48qcmTJ+vWW29VWFhYletlZGQoPT3djZFB+qXw79Klq4qLTzT4vkJDm2rbtq18AfAyFP8A3GbkyJEaMmSI07zk5GSNHDlSo0aN8lBUAFylpKREN998s4wxmj59erXr0pzPMwoKClRcfEL9Rk9VWHR8g+3HdmCP1r+broKCAop/L0PxD8ClioqKtHPnTsf07t27lZubq4iICMXFxalVq1ZO6wcFBalt27bq3Lmzu0MF4ELlhf/evXu1atWqaq/6SzTn87Sw6HhFxHHeDUQU/wBcauPGjRo0aJBjuvzKXmpqqmbPnu2hqAA0pPLCf8eOHVq9enWFL/kAvAfFPwCXSkpKkjGmxuvTzh/wftX9ohcdHa0bb7xROTk5+uSTT1RaWqqDBw9KkiIiIhQcHOypsAFUguIfAABUq7pf9KZNm6YlS5ZIknr27On0vNWrVyspKcldYQKoAYp/AABQrbP9olebX/sAeBYj/AIAAAABguIfAAAACBAU/wAAAECA8Gjxv3btWg0bNkwxMTGyWCxavHixY1lJSYkmT56sHj16qFmzZoqJidHtt9+un376yXMBAwAAAD7Mo8X/8ePHlZiYqKysrArLTpw4oZycHE2ZMkU5OTn66KOPtH37dl1zzTUeiBQAAADwfR7t7SclJUUpKSmVLgsPD9eKFSuc5r3++uvq27ev8vLyGCoaAAAAqCWf6uqzsLBQFotFLVu2rHIdu90uu93umLbZbG6ILLDk5eWpoKCgXtvYunWri6IBAABATflM8X/y5ElNnjxZt956q8LCwqpcLyMjQ+np6W6MLLDk5eWpS5euKi4+4ZLtldhPuWQ7AAAAODufKP5LSkp08803yxij6dOnV7tuWlqaY+RB6Zcr/7GxsQ0dYsAoKChQcfEJ9Rs9VWHR8XXezoHv1mnzkpk6ffq064IDAABAtby++C8v/Pfu3atVq1ZVe9VfkqxWq6xWq5uiC1xh0fGKiOtc5+fbDuxxXTAAAACoEa8u/ssL/x07dmj16tVq1aqVp0MCAAAAfJZHi/+ioiLt3LnTMb17927l5uYqIiJC0dHRuvHGG5WTk6NPPvlEpaWlOnjwoCQpIiJCwcHBngobAAAA8EkeLf43btyoQYMGOabL2+qnpqZq2rRpWrJkiSSpZ8+eTs9bvXq1kpKS3BUmAAAA4Bc8WvwnJSXJGFPl8uqWAQAAAKgdj47wCwAAAMB9KP4BAACAAEHxD8Cl1q5dq2HDhikmJkYWi0WLFy92LCspKdHkyZPVo0cPNWvWTDExMbr99tv1008/eS5gAAACCMU/AJc6fvy4EhMTlZWVVWHZiRMnlJOToylTpignJ0cfffSRtm/frmuuucYDkQIAEHi8up9/AL4nJSVFKSkplS4LDw/XihUrnOa9/vrr6tu3r/Ly8hQXF+eOEAEACFgU/wA8qrCwUBaLRS1btqxyHbvdLrvd7pi22WxuiAwAAP9Dsx8AHnPy5ElNnjxZt956q8LCwqpcLyMjQ+Hh4Y5HbGysG6MEAMB/UPwD8IiSkhLdfPPNMsZo+vTp1a6blpamwsJCx2Pfvn1uihIAAP9Csx8Ablde+O/du1erVq2q9qq/JFmtVlmtVjdFBwCA/+LKPwC3Ki/8d+zYoc8++0ytWrXydEgAzqK6LnwlyRijxx9/XNHR0QoNDdWQIUO0Y8cOzwQLoFoU/wBcqqioSLm5ucrNzZUk7d69W7m5ucrLy1NJSYluvPFGbdy4UXPnzlVpaakOHjyogwcP6tSpU54NHECVquvCV5L+8pe/6NVXX9WMGTO0fv16NWvWTMnJyTp58qSbIwVwNjT7AeBSGzdu1KBBgxzTkyZNkiSlpqZq2rRpWrJkiSSpZ8+eTs9bvXq1kpKS3BUmgFqorgtfY4wyMzP12GOP6dprr5Uk/fWvf1WbNm20ePFi/eEPf6j0efTiBXgGxT8Al0pKSpIxpsrl1S0D4Ht2796tgwcPasiQIY554eHh6tevn9atW1dl8Z+RkaH09HR3hQng/9HsBwAA1NnBgwclSW3atHGa36ZNG8eyytCLF+AZXPkHAABuRy9egGdw5R8AANRZ27ZtJUmHDh1ymn/o0CHHMgDeg+IfAADUWUJCgtq2bauVK1c65tlsNq1fv179+/f3YGQAKkOzHwAAUK2ioiLt3LnTMV3ehW9ERITi4uJ033336amnnlKnTp2UkJCgKVOmKCYmRtddd53nggZQKYp/AABQreq68J09e7YefvhhHT9+XHfddZeOHj2qSy+9VMuWLVNISIinQgZQBYp/AECl8vLyVFBQ4JZ9RUZGKi4uzi37Qu2drQtfi8WiJ554Qk888YQbowJQFxT/AIAK8vLy1KVLVxUXn3DL/kJDm2rbtq18AQCABubR4n/t2rV6/vnnlZ2drQMHDmjRokVO7QONMZo6dareeustHT16VJdccommT5+uTp06eS5oAAgABQUFKi4+oX6jpyosOr5B92U7sEfr301XQUEBxT8ANDCPFv/Hjx9XYmKiRo8erRtuuKHC8r/85S969dVXNWfOHMcNRMnJydqyZQvtCAHADcKi4xUR19nTYQAAXMSjxX9KSopSUlIqXWaMUWZmph577DFde+21kqS//vWvatOmjRYvXlzlcOF2u112u90xbbPZXB84AAAA4IO8tp//3bt36+DBgxoyZIhjXnh4uPr166d169ZV+byMjAyFh4c7HrGxse4IFwAAAPB6Xlv8Hzx4UJLUpk0bp/lt2rRxLKtMWlqaCgsLHY99+/Y1aJwAAACAr/C73n6sVqusVqunwwAAAAC8jtde+W/btq0k6dChQ07zDx065FgGAAAAoOa89sp/QkKC2rZtq5UrV6pnz56Sfrl5d/369frTn/7k2eAAAABcbOvWrX6xD3g3jxb/RUVF2rlzp2N69+7dys3NVUREhOLi4nTffffpqaeeUqdOnRxdfcbExDiNBQAAAODLigsPS7JoxIgRbttnif2U2/YF7+LR4n/jxo0aNGiQY3rSpEmSpNTUVM2ePVsPP/ywjh8/rrvuuktHjx7VpZdeqmXLltHHPwAA8BslJ45JMup522S1TujSoPs68N06bV4yU6dPn27Q/cB7ebT4T0pKkjGmyuUWi0VPPPGEnnjiCTdGBaA+GLkbAOqmeVRcgw+qZzuwp0G3D+/ntTf8AvBN5SN3Z2VlVbq8fOTuGTNmaP369WrWrJmSk5N18uRJN0cKAEDg8dobfgH4poYYuRsAALgGxT8AtznbyN1VFf92u112u90xbbPZGjxWuB89nQBAw6P4B+A2dR25OyMjQ+np6Q0aGzyHnk4AwH0o/gF4vbS0NEdvYNIvV/5jY2M9GBFciZ5OAMB9KP4BuM2vR+6Ojo52zD906JBjML/KWK1WWa3Whg4PHkZPJwDQ8OjtB4Db/Hrk7nLlI3f379/fg5EBABAYuPIPwKUYuRsAAO9F8Q/ApRi5GwAA70XxD8ClGLkbAADvRZt/AABQb6WlpZoyZYoSEhIUGhqqjh076sknn6z2YgAA9+PKPwAAqLfnnntO06dP15w5c9S9e3dt3LhRo0aNUnh4uCZMmODp8AD8P4p/AABQb//617907bXXaujQoZKk+Ph4vf/++/r66689HBmAX6PZDwAAqLcBAwZo5cqV+uGHHyRJ33zzjf75z38qJSWl0vXtdrtsNpvTA0DD48o/AACot0ceeUQ2m01dunRR48aNVVpaqqefflrDhw+vdP2MjAylp6e7OUoAXPkHAAD19sEHH2ju3LmaN2+ecnJyNGfOHL3wwguaM2dOpeunpaWpsLDQ8di3b5+bIwYCU52K/3PPPVeHDx+uMP/o0aM699xz6x0UAPcjrwH/4868fuihh/TII4/oD3/4g3r06KGRI0fq/vvvV0ZGRqXrW61WhYWFOT0ANLw6Ff979uxRaWlphfl2u1379++vd1AA3I+8BvyPO/P6xIkTatTIuaxo3LixysrKXLofAPVTqzb/S5Yscfy9fPlyhYeHO6ZLS0u1cuVKxcfHuyw4AA3vzLwOCgqSJC1dulRWq5W8BnyQJ/J62LBhevrppxUXF6fu3btr06ZNeumllzR69GiX7gdA/dSq+L/uuusk/TJCZ2pqqtOyoKAgxcfH68UXX3RZcAAaXlV5fdttt5HXgI/yRF6/9tprmjJlisaOHav8/HzFxMTo7rvv1uOPP+7S/QCon1oV/+U/3SUkJGjDhg2KjIxskKDKlZaWatq0aXrvvfd08OBBxcTE6I477tBjjz0mi8XSoPsGAsWZeR0cHKzw8HAdPXqUNriAj/JEXrdo0UKZmZnKzMxskO0DcI06dfW5e/duV8dRKUYLBNynPK/paxvwH+Q1gDPVuZ//lStXauXKlcrPz69wM8+7775b78AkRgsE3G3lypVaunSpJGncuHGOdsKS6/IagHuR1wB+rU69/aSnp+vKK6/UypUrVVBQoCNHjjg9XKW2owVKjBgI1FV5Xn/++eeSfukKsCHyGoD7kNcAzlSnK/8zZszQ7NmzNXLkSFfH46S2owVKjBgI1FV5Xl977bUKDw/X3LlzafMP+DjyGsCZ6nTl/9SpUxowYICrY6mgtqMFSowYCNSVu/IagPuQ1wDOVKfif8yYMZo3b56rY6mgtqMFSowYCNSVu/IagPuQ1wDOVKdmPydPntTMmTP12Wef6cILL3S6eUiSXnrpJZcEx2iBgPuU5/Xy5cslSY8++qiCg4Mdy12V1wDch7wGcKY6Ff/ffvutevbsKUnavHmz0zJX9r/PaIGA+5TndWlpqWO6cePGklyb1wDch7wGcKY6Ff+rV692dRyVYrRAwH3K89pmsyk8PFyffPJJgzSbY/A+wH3cldcAfEed+/l3B0YLBPwPg/cBQODYunWrW/YTGRmpuLg4t+zL19Wp+B80aFC1V+hWrVpV54AAeEZ5Xp8+fVqSdPXVV6tJk/+eIlyV13UZvM9ut8tutzumGb8DqBl35TVwpuLCw5IsGjFihFv2FxraVNu2beULQA3Uqfgvb+9frqSkRLm5udq8ebNSU1NdERcANyvP61OnTumLL75Qly5dtGXLFpfn9YABAzRz5kz98MMPOv/88x2D91V34yHjdwB14668Bs5UcuKYJKOet01W64QuDbov24E9Wv9uugoKCij+a6BOxf/LL79c6fxp06apqKioXgEB8IzyvLbZbHrjjTf0wgsvKCwszOV5XZfB+9LS0jRp0iTHtM1mU2xsrMtiAvyVu/IaqErzqDhFxHX2dBj4lTr181+VESNG6N1333XlJgF4mKvzui6D9zF+B+Ba/L8GApdLb/hdt26dQkJCXLlJAB7m6rz+9eB9ktSjRw/t3btXGRkZNEMA3IT/10DgqlPxf8MNNzhNG2N04MABbdy4UVOmTHFJYADcqzyvS0pKJEnDhw/Xf/7zH5fnNYP3Ae7jrrwG4DvqVPyHh4c7TTdq1EidO3fWE088oSuvvNIlgQFwr/K8Li8SWrZsqe7du7s8rxm8D3Afd+U1AN9Rp+J/1qxZro4DgIeV57XNZtPcuXOVlZXVIG3rGbwPcB935TUA31GvNv/Z2dmOwRu6d++uiy66yCVBwfXy8vJUUFBQ7+24a7COunBVbIE+UMimTZskSQsWLFCfPn1cntcM3ge4X0PnNQDfUafiPz8/X3/4wx+0Zs0atWzZUpJ09OhRDRo0SPPnz1fr1q1dGSPqKS8vT126dFVx8QmXbbPEfspl26ovVw8kEqgDhfw6ryXp4YcfVmFhIXkN+DDyGsCZ6lT833vvvTp27Ji+//57de3aVZK0ZcsWpaamasKECXr//fddGiTqp6CgQMXFJ9Rv9FSFRcfXa1sHvlunzUtmOkaL9AauHEgkkAcKKc/r9evXq2/fvtq7d6/+/e9/k9eADyOvAZypTsX/smXL9NlnnzkKf0nq1q2bsrKyuIHIi4VFx9d7oA3bgT2uCaYBMJBI/ZTndefO/30NyWvAt5HXAM5Up0G+ysrKFBQUVGF+UFAQ3fUBPoq8BvwPeQ3gTHUq/i+//HJNnDhRP/30k2Pe/v37df/992vw4MEuCw6A+5Tn9YEDBxzzyGvAt7k7r/fv368RI0aoVatWCg0NVY8ePbRx40aX7wdA3dWp+H/99ddls9kUHx+vjh07qmPHjkpISJDNZtNrr73m6hgBuEF5Xvfo0UOSlJiYSF4DPs6deX3kyBFdcsklCgoK0qeffqotW7boxRdf1DnnnOPS/QConzq1+Y+NjVVOTo4+++wzbdu2TZLUtWtXDRkyxKXBAXCf8rz++OOPdf3112vs2LG66KKLyGvAh7kzr5977jnFxsY6jQWUkJDg8v0AqJ9aXflftWqVunXrJpvNJovFoiuuuEL33nuv7r33Xl188cXq3r27vvjii4aKFUADODOvL7/8cknS3XffTV4DPsoTeb1kyRL16dNHN910k6KionTRRRfprbfeqnJ9u90um83m9ADQ8GpV/GdmZurOO++sdHTA8PBw3X333XrppZdcFhyAhkdeA/7HE3m9a9cuTZ8+XZ06ddLy5cv1pz/9SRMmTNCcOXMqXT8jI0Ph4eGOR2xsrEvjAVC5WhX/33zzja666qoql1955ZXKzs6ud1AA3Ie8BvyPJ/K6rKxMvXr10jPPPKOLLrpId911l+68807NmDGj0vXT0tJUWFjoeOzbt8+l8QCoXK2K/0OHDlXaZVi5Jk2a6D//+U+9gwLgPuQ14H88kdfR0dHq1q2b07yuXbsqLy+v0vWtVqvCwsKcHgAaXq2K/3bt2mnz5s1VLv/2228VHR1d76AAuA95DfgfT+T1JZdcou3btzvN++GHH9ShQweX7gdA/dSq+P/d736nKVOm6OTJkxWWFRcXa+rUqbr66qtdFpxEn8FAQ/NEXgNoWJ7I6/vvv19fffWVnnnmGe3cuVPz5s3TzJkzNW7cOJfuB0D91Kqrz8cee0wfffSRzj//fI0fP94xXPi2bduUlZWl0tJS/fnPf3ZZcOV9Bg8aNEiffvqpWrdurR07dtBnMOBCZ+Z1+U13L7/8st555x2X5zWAhueJvL744ou1aNEipaWl6YknnlBCQoIyMzM1fPhwl+4HQP3Uqvhv06aN/vWvf+lPf/qT0tLSZIyRJFksFiUnJysrK0tt2rRxWXB16TPYbrfLbrc7puk6DKheVXn9xBNPNEheA2h4nsrrq6++ml8KAS9X60G+OnTooKVLl+rIkSPauXOnjDHq1KlTg1yNX7JkiZKTk3XTTTfp888/V7t27TR27FjdeeedVT4nIyND6enpLo8F8Ge/zuvc3Fxdfvnl2rVrF211AR9GXgOoTK3a/P/aOeeco4svvlh9+/ZtsGY4te0zWKLrMKA+zjnnHPXu3dvxNwDfR14D+LVaX/l3p7KyMvXp00fPPPOMJOmiiy7S5s2bNWPGDKWmplb6HKvVKqvV6s4wAQAAAJ9Q5yv/7lDbPoMB+AZ68QIAwDO8+so/fQYD/odevAAA8ByvLv7vv/9+DRgwQM8884xuvvlmff3115o5c6Zmzpzp6dAA1FFdevECAACu4dXFP30GA/6nLr140YUvfNXWrVvdsp/IyEjFxcW5ZV8AfJtXF/8SfQYD/qa8F69Jkybp0Ucf1YYNGzRhwgQFBwdXeSM/XfjC1xQXHpZk0YgRI9yyv9DQptq2bStfAACcldcX/wD8S1168UpLS9OkSZMc0zabzTFiKeCNSk4ck2TU87bJap3QpUH3ZTuwR+vfTVdBQQHFP4CzovgH4FZV9eL14YcfVvkcuvCFr2oeFaeIuM6eDgMAHLy6q08A/odevAAA8ByKfwBudf/99+urr77SM888o507d2revHmaOXOmxo0b5+nQAADwexT/ANyqvBev999/XxdccIGefPJJevECAMBNaPMPwO3oxQsAAM/gyj8AAAAQICj+AQAAgABB8Q8AAAAECIp/AAAAIEBQ/AMAAAABguIfAAAACBAU/wAAAECAoPgHAAAAAgTFPwAAABAgKP4BAIBLPfvss7JYLLrvvvs8HQqAM1D8AwAAl9mwYYPefPNNXXjhhZ4OBUAlKP4BAIBLFBUVafjw4Xrrrbd0zjnneDocAJVo4ukAAACAfxg3bpyGDh2qIUOG6Kmnnqp2XbvdLrvd7pi22WwNHR5Qb3l5eSooKHDLviIjIxUXF+fy7VL8AwCAeps/f75ycnK0YcOGGq2fkZGh9PT0Bo4KcJ28vDx16dJVxcUn3LK/0NCm2rZtq8u/APhU8f/ss88qLS1NEydOVGZmpqfDAQAAkvbt26eJEydqxYoVCgkJqdFz0tLSNGnSJMe0zWZTbGxsQ4UI1FtBQYGKi0+o3+ipCouOb9B92Q7s0fp301VQUBC4xT83EAEA4J2ys7OVn5+vXr16OeaVlpZq7dq1ev3112W329W4cWOn51itVlmtVneHCtRbWHS8IuI6ezqMOvOJG365gQgAAO81ePBgfffdd8rNzXU8+vTpo+HDhys3N7dC4Q/Ac3ziyj83EMHdtm7dWu9tNNSNOgDgbVq0aKELLrjAaV6zZs3UqlWrCvMBeJbXF//cQAR3Ki48LMmiESNG1HtbDXWjjr/hXh4AANzHq4t/biCCu5WcOCbJqOdtk9U6oUudt9OQN+r4E+7lAfzXmjVrPB0CgEp4dfHPDUTwlOZRcT59M48v+PW9PGdrzgcAAFzDq4v/8huIfm3UqFHq0qWLJk+ezA1EgA/zt3t5/GHgFwCA//Pq4p8biAD/5G/38vjLwC8AAP/n1cU/AP/jj/fy+MvALwAA/+dzxT83EAG+zZ/v5fH1gV8AAP7P54p/AL6Ne3kAAPAcin8AbsW9PAAAeE4jTwcAAAAAwD248g/A47iXBwAA96D4BwAAPsUd42ps3bq1QbcPeArFPwAA8BnuHlejxH7KLfsB3IXiHwAA+Ax3jatx4Lt12rxkpk6fPt1g+wA8geIfAAD4nIYeV8N2YE+DbRvwJHr7AQAAAAIExT8AAAAQICj+AQAAgABBm38A8EEN3Q0h3RwCgH+i+AcAH1JceFiSRSNGjHDL/ujmEAD8C8U/APiQkhPHJBn1vG2yWid0abD90M0hAPgnin8A8EHNo+Lo5hAAUGvc8AsAAAAECIp/AAAAIEBQ/AMAAAABguIfAADUW0ZGhi6++GK1aNFCUVFRuu6667R9+3ZPhwXgDBT/AACg3j7//HONGzdOX331lVasWKGSkhJdeeWVOn78uKdDA/ArXl38cxUBAADfsGzZMt1xxx3q3r27EhMTNXv2bOXl5Sk7O9vToQH4Fa/u6rP8KsLFF1+s06dP69FHH9WVV16pLVu2qFmzZp4ODwAAVKGwsFCSFBERUelyu90uu93umLbZbG6JC/6Lkc9rxquL/2XLljlNz549W1FRUcrOztZvf/tbD0UFAACqU1ZWpvvuu0+XXHKJLrjggkrXycjIUHp6upsjgz9i5PPa8eri/0xnu4og+d+VhLy8PBUUFNRrG/7yTTWQueJzUC4yMlJxcXEu2VZdZWRk6KOPPtK2bdsUGhqqAQMG6LnnnlPnzg03aBUA9xk3bpw2b96sf/7zn1Wuk5aWpkmTJjmmbTabYmNj3REe/Awjn9eOzxT/NbmKIPnXlYS8vDx16dJVxcUnXLI9X/+mGqhc/TkIDW2qbdu2evQLAE36AP81fvx4ffLJJ1q7dq3at29f5XpWq1VWq9WNkcHfMfJ5zfhM8V+TqwiSf11JKCgoUHHxCfUbPVVh0fF13o6/fFMNVK76HEi/nLjWv5uugoICjxb/tW3S52+/6AH+yBije++9V4sWLdKaNWuUkJDg6ZAAVMIniv+aXkWQ/PNKQlh0fL2+yfrLN9VAV9/PgTc7W5M+f/pFD/BX48aN07x58/Txxx+rRYsWOnjwoCQpPDxcoaGhHo4OQDmv7urTGKPx48dr0aJFWrVqFVcRAD9UkyZ9aWlpKiwsdDz27dvn5igBnM306dNVWFiopKQkRUdHOx4LFizwdGgAfsWrr/xzFQHwfzVp0uePv+gB/sYY4+kQANSAV1/55yoC4N/Km/StXr36rE36AABA/Xn1lX+uIgD+iRsDAQDwDK8u/gH4J5r0AQDgGV7d7AeAf6JJHwAAnsGVfwBuR5M+AAA8gyv/AAAAQICg+AcAAAACBMU/AAAAECAo/gEAAIAAQfEPAAAABAh6+/l/eXl5KigocMm27Ha7rFZrvbezdetWF0QDAAAA/ILiX78U/l26dFVx8QnXbNBikVzYlWGJ/ZTLtgUEEld+qa8OX9QBAL6C4l9SQUGBiotPqN/oqQqLjq/Xtg58t06bl8xUz9smq3VCF5ds6/Tp0/XaDhCIXP6lvgb4og4A8HYU/78SFh2viLjO9dqG7cAeSVLzqDiXbQtA7bnyS/3Z8EUdAOArKP4B+DVXfKk/G76oAwB8Bb39AAAAAAGC4h8AAAAIEBT/AAAAQICg+AcAAAACBMU/AAAAECAo/gEAAIAAQfEPAAAABAiKfwAAACBA+ETxn5WVpfj4eIWEhKhfv376+uuvPR0SgHoirwH/RG4D3s3ri/8FCxZo0qRJmjp1qnJycpSYmKjk5GTl5+d7OjQAdUReA/6J3Aa8n9cX/y+99JLuvPNOjRo1St26ddOMGTPUtGlTvfvuu54ODUAdkdeAfyK3Ae/XxNMBVOfUqVPKzs5WWlqaY16jRo00ZMgQrVu3rtLn2O122e12x3RhYaEkyWazVbmfoqIiSdLPe7frtL24XjHbDuz9Zb/7dyioicUrtkVM7t+W7WCeJCk7O9vx+aqr7du3S3LR5/P/4yoqKqoyJ8rnG2Pqta+q+GJen40rP4Pesi9/PCZ37sutx+QFeS3VPrfrkteS+3LbHz+X7twXx1TPfTVkXhsvtn//fiPJ/Otf/3Ka/9BDD5m+fftW+pypU6caSTx48KjnY9++feQ1Dx5+9miovK5LbpPXPHi45lHbvPbqK/91kZaWpkmTJjmmy8rK9PPPP6tVq1ayWCr/lmaz2RQbG6t9+/YpLCzMXaE2GI7Hu3n78RhjdOzYMcXExHg6FAfy2jvxGjc8V73G/pLX3ox8qBtet7opf922bNlS67z26uI/MjJSjRs31qFDh5zmHzp0SG3btq30OVarVVar1Wley5Yta7S/sLAwv/rgcTzezZuPJzw8vMG2TV77H17jhueK17gh81qqfW7XJ6+9GflQN7xuddOuXTs1alS7W3i9+obf4OBg9e7dWytXrnTMKysr08qVK9W/f38PRgagrshrwD+R24Bv8Oor/5I0adIkpaamqk+fPurbt68yMzN1/PhxjRo1ytOhAagj8hrwT+Q24P28vvi/5ZZb9J///EePP/64Dh48qJ49e2rZsmVq06aNy/ZhtVo1derUCj8/+iqOx7v52/HUBXntH3iNG56vvcbuyG1v5Wvvlbfgdaub+rxuFmMasN8vAAAAAF7Dq9v8AwAAAHAdin8AAAAgQFD8AwAAAAGC4h8AAAAIEH5X/K9du1bDhg1TTEyMLBaLFi9efNbnrFmzRr169ZLVatV5552n2bNnV1gnKytL8fHxCgkJUb9+/fT111+7PvhK1PZ4PvroI11xxRVq3bq1wsLC1L9/fy1fvtxpnWnTpslisTg9unTp0oBH8V+1PZ41a9ZUiNVisejgwYNO6/nK+3PHHXdUejzdu3d3rOPJ98cfTJ8+XRdeeKFjwJj+/fvr008/9XRYfu3ZZ5+VxWLRfffd5+lQ/AbnAd/Be1V3+/fv14gRI9SqVSuFhoaqR48e2rhxo6fD8mrx8fGV1hHjxo2r8Tb8rvg/fvy4EhMTlZWVVaP1d+/eraFDh2rQoEHKzc3VfffdpzFjxjgVzAsWLNCkSZM0depU5eTkKDExUcnJycrPz2+ow3Co7fGsXbtWV1xxhZYuXars7GwNGjRIw4YN06ZNm5zW6969uw4cOOB4/POf/2yI8Cuo7fGU2759u1O8UVFRjmW+9P688sorTsexb98+RURE6KabbnJaz1Pvjz9o3769nn32WWVnZ2vjxo26/PLLde211+r777/3dGh+acOGDXrzzTd14YUXejoUv8N5wHfwXtXekSNHdMkllygoKEiffvqptmzZohdffFHnnHOOp0Pzahs2bHD6rK1YsUKSKtQR1TJ+TJJZtGhRtes8/PDDpnv37k7zbrnlFpOcnOyY7tu3rxk3bpxjurS01MTExJiMjAyXxns2NTmeynTr1s2kp6c7pqdOnWoSExNdF1gd1eR4Vq9ebSSZI0eOVLmOL78/ixYtMhaLxezZs8cxz1veH39yzjnnmLffftvTYfidY8eOmU6dOpkVK1aYgQMHmokTJ3o6JL/BecB38F7VzeTJk82ll17q6TB83sSJE03Hjh1NWVlZjZ/jd1f+a2vdunUaMmSI07zk5GStW7dOknTq1CllZ2c7rdOoUSMNGTLEsY43Kysr07FjxxQREeE0f8eOHYqJidG5556r4cOHKy8vz0MR1kzPnj0VHR2tK664Ql9++aVjvq+/P++8846GDBmiDh06OM33tffHW5WWlmr+/Pk6fvy4+vfv7+lw/M64ceM0dOjQCudQuAbnAd/Be1V7S5YsUZ8+fXTTTTcpKipKF110kd566y1Ph+VTTp06pffee0+jR4+WxWKp8fMCvvg/ePBghZEH27RpI5vNpuLiYhUUFKi0tLTSdc5sd+6NXnjhBRUVFenmm292zOvXr59mz56tZcuWafr06dq9e7cuu+wyHTt2zIORVi46OlozZszQhx9+qA8//FCxsbFKSkpSTk6OJPn0+/PTTz/p008/1ZgxY5zm+9L7462+++47NW/eXFarVffcc48WLVqkbt26eTosvzJ//nzl5OQoIyPD06H4Jc4DvoP3qm527dql6dOnq1OnTlq+fLn+9Kc/acKECZozZ46nQ/MZixcv1tGjR3XHHXfU6nlNGiYceIN58+YpPT1dH3/8sVMb+ZSUFMffF154ofr166cOHTrogw8+0B//+EdPhFqlzp07q3Pnzo7pAQMG6Mcff9TLL7+sv/3tbx6MrP7mzJmjli1b6rrrrnOa70vvj7fq3LmzcnNzVVhYqIULFyo1NVWff/45XwBcZN++fZo4caJWrFihkJAQT4fjlzgP+A7eq7opKytTnz599Mwzz0iSLrroIm3evFkzZsxQamqqh6PzDe+8845SUlIUExNTq+cF/JX/tm3b6tChQ07zDh06pLCwMIWGhioyMlKNGzeudJ22bdu6M9RamT9/vsaMGaMPPvjgrD/Jt2zZUueff7527tzppujqp2/fvo5YffX9Mcbo3Xff1ciRIxUcHFztur72/niD4OBgnXfeeerdu7cyMjKUmJioV155xdNh+Y3s7Gzl5+erV69eatKkiZo0aaLPP/9cr776qpo0aaLS0lJPh+h3OA/4Dt6rmomOjq5wQaZr1640maqhvXv36rPPPqvQeqAmAr7479+/v1auXOk0b8WKFY72wcHBwerdu7fTOmVlZVq5cqXXtiF+//33NWrUKL3//vsaOnToWdcvKirSjz/+qOjoaDdEV3+5ubmOWH3x/ZGkzz//XDt37qzRVSFfe3+8UVlZmex2u6fD8BuDBw/Wd999p9zcXMejT58+Gj58uHJzc9W4cWNPh+h3OA/4Dt6rmrnkkku0fft2p3k//PBDhXvgULlZs2YpKiqqRnVeBQ13/7FnHDt2zGzatMls2rTJSDIvvfSS2bRpk9m7d68xxphHHnnEjBw50rH+rl27TNOmTc1DDz1ktm7darKyskzjxo3NsmXLHOvMnz/fWK1WM3v2bLNlyxZz1113mZYtW5qDBw963fHMnTvXNGnSxGRlZZkDBw44HkePHnWs88ADD5g1a9aY3bt3my+//NIMGTLEREZGmvz8fK87npdfftksXrzY7Nixw3z33Xdm4sSJplGjRuazzz5zrONL70+5ESNGmH79+lW6TU++P/7gkUceMZ9//rnZvXu3+fbbb80jjzxiLBaL+d///V9Ph+bX6O3HtTgP+A7eq7r5+uuvTZMmTczTTz9tduzYYebOnWuaNm1q3nvvPU+H5vVKS0tNXFycmTx5cp2e73fFf3nXkGc+UlNTjTHGpKammoEDB1Z4Ts+ePU1wcLA599xzzaxZsyps97XXXjNxcXEmODjY9O3b13z11VcNfzCm9sczcODAatc35peuTKOjo01wcLBp166dueWWW8zOnTu98niee+4507FjRxMSEmIiIiJMUlKSWbVqVYXt+sr7Y4wxR48eNaGhoWbmzJmVbtOT748/GD16tOnQoYMJDg42rVu3NoMHD6bwdwOKf9fiPOA7eK/q7u9//7u54IILjNVqNV26dKny/yKcLV++3Egy27dvr9PzLcYYU5efGwAAAAD4loBv8w8AAAAECop/AAAAIEBQ/AMAAAABguIfAAAACBAU/wAAAECAoPgHAAAAAgTFPwAAABAgKP4BAACAAEHxD5dZs2aNLBaLjh49etZ1Z8+erZYtWzZ4TDUVHx+vzMxMT4cBeCVyG/A/5HXgovhHBd6W5K7kz8cGnI0/f/79+diA6vjzZ9+fj82TKP4BAACAAEHx74eSkpI0fvx4jR8/XuHh4YqMjNSUKVNkjJEk2e12Pfjgg2rXrp2aNWumfv36ac2aNZJ++Rlw1KhRKiwslMVikcVi0bRp0yRJf/vb39SnTx+1aNFCbdu21W233ab8/HyXxf3xxx+rV69eCgkJ0bnnnqv09HSdPn3asdxisejtt9/W9ddfr6ZNm6pTp05asmSJ0zaWLFmiTp06KSQkRIMGDdKcOXMcP2tWd2ySdOLECY0ePVotWrRQXFycZs6c6bJjA1yB3Ca34X/Ia/La7Qz8zsCBA03z5s3NxIkTzbZt28x7771nmjZtambOnGmMMWbMmDFmwIABZu3atWbnzp3m+eefN1ar1fzwww/GbrebzMxMExYWZg4cOGAOHDhgjh07Zowx5p133jFLly41P/74o1m3bp3p37+/SUlJcex39erVRpI5cuTIWWOcNWuWCQ8Pd0yvXbvWhIWFmdmzZ5sff/zR/O///q+Jj48306ZNc6wjybRv397MmzfP7Nixw0yYMME0b97cHD582BhjzK5du0xQUJB58MEHzbZt28z7779v2rVr54ipumPr0KGDiYiIMFlZWWbHjh0mIyPDNGrUyGzbtq2+bwfgMuQ2uQ3/Q16T1+5G8e+HBg4caLp27WrKysoc8yZPnmy6du1q9u7daxo3bmz279/v9JzBgwebtLQ0Y0zFJK/Khg0bjCRHMtbnRDJ48GDzzDPPOK3zt7/9zURHRzumJZnHHnvMMV1UVGQkmU8//dRxjBdccIHTNv785z87xVTVsXXo0MGMGDHCMV1WVmaioqLM9OnTz3osgLuQ2/9FbsNfkNf/RV67RxP3/cYAd/rNb34ji8XimO7fv79efPFFfffddyotLdX555/vtL7dblerVq2q3WZ2dramTZumb775RkeOHFFZWZkkKS8vT926datXvN98842+/PJLPf300455paWlOnnypE6cOKGmTZtKki688ELH8mbNmiksLMzxM+b27dt18cUXO223b9++NY7h19u2WCxq27atS38iBVyB3P4FuQ1/Ql7/grx2D4r/AFNUVKTGjRsrOztbjRs3dlrWvHnzKp93/PhxJScnKzk5WXPnzlXr1q2Vl5en5ORknTp1yiVxpaen64YbbqiwLCQkxPF3UFCQ0zKLxeI4odVXQ24baGjkdtXIbfgq8rpq5HXdUfz7qfXr1ztNf/XVV+rUqZMuuugilZaWKj8/X5dddlmlzw0ODlZpaanTvG3btunw4cN69tlnFRsbK0nauHGjy+Lt1auXtm/frvPOO6/O2+jcubOWLl3qNG/Dhg1O05UdG+BLyO1fkNvwJ+T1L8hr96C3Hz+Vl5enSZMmafv27Xr//ff12muvaeLEiTr//PM1fPhw3X777froo4+0e/duff3118rIyNA//vEPSb8MnlFUVKSVK1eqoKBAJ06cUFxcnIKDg/Xaa69p165dWrJkiZ588kmXxfv444/rr3/9q9LT0/X9999r69atmj9/vh577LEab+Puu+/Wtm3bNHnyZP3www/64IMPNHv2bEly/Jxa2bEBvoTcJrfhf8hr8tqtPH3TAVxv4MCBZuzYseaee+4xYWFh5pxzzjGPPvqo42aiU6dOmccff9zEx8eboKAgEx0dba6//nrz7bffOrZxzz33mFatWhlJZurUqcYYY+bNm2fi4+ON1Wo1/fv3N0uWLDGSzKZNm4wx9bt5yBhjli1bZgYMGGBCQ0NNWFiY6du3r6O3A2N+uXlo0aJFTs8JDw83s2bNckx//PHH5rzzzjNWq9UkJSWZ6dOnG0mmuLi42mPr0KGDefnll522nZiY6FgOeANym9yG/yGvyWt3sxjz/x3Jwm8kJSWpZ8+eDH0t6emnn9aMGTO0b98+T4cC1Bu5/V/kNvwFef1f5LV70OYffuWNN97QxRdfrFatWunLL7/U888/r/Hjx3s6LAD1RG4D/oe89gza/KNBpKSkqHnz5pU+nnnmmQbb744dO3TttdeqW7duevLJJ/XAAw84jQgIoH7IbcD/kNeBhWY/aBD79+9XcXFxpcsiIiIUERHh5ogAuAK5Dfgf8jqwUPwDAAAAAYJmPwAAAECAoPgHAAAAAgTFPwAAABAgKP4BAACAAEHxDwAAAAQIin8AAAAgQFD8AwAAAAHi/wCCneigPz13ygAAAABJRU5ErkJggg==",
      "text/plain": [
       "<Figure size 900x300 with 3 Axes>"
      ]
     },
     "metadata": {},
     "output_type": "display_data"
    }
   ],
   "source": [
    "fig, axes = plt.subplots(1, 3, figsize=(9, 3))\n",
    "for i, species in enumerate(df['species'].unique()):\n",
    "    sns.histplot(df[df['species'] == species]['petal_length'], ax=axes[i], kde=False)\n",
    "    axes[i].set_title(species)"
   ]
  }
 ],
 "metadata": {
  "kernelspec": {
   "display_name": "Python 3 (ipykernel)",
   "language": "python",
   "name": "python3"
  },
  "language_info": {
   "codemirror_mode": {
    "name": "ipython",
    "version": 3
   },
   "file_extension": ".py",
   "mimetype": "text/x-python",
   "name": "python",
   "nbconvert_exporter": "python",
   "pygments_lexer": "ipython3",
   "version": "3.10.12"
  }
 },
 "nbformat": 4,
 "nbformat_minor": 5
}
